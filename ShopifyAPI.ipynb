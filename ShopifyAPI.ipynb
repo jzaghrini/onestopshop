{
 "cells": [
  {
   "cell_type": "markdown",
   "id": "61865df1-40cb-4e0e-a496-3e2aac02733b",
   "metadata": {},
   "source": [
    "# Shopify Scraping\n",
    "\n",
    "This notebook was me doing some simple data exploration with Shopify product data. I have a lot of shopify stores saved in my iCloud notes, and wanted a way to aggregate them. The long-term idea was to make an RSS feed for e-commerce. I think it's natural for where E-Com is today, but that's a topic for another time.\n",
    "\n",
    "Some quick googling showed me that you can see a product listing by visiting  a shopify store and add `/product.json` at the end of the url. Turns out that doesn't give you all the data, so this notebook was me kind of looking through the dataset and structuring it in my mind."
   ]
  },
  {
   "cell_type": "code",
   "execution_count": 2,
   "id": "49cfac61-74ae-4ee9-a5da-6428a5f19ce7",
   "metadata": {},
   "outputs": [],
   "source": [
    "import pandas as pd\n",
    "import requests"
   ]
  },
  {
   "cell_type": "markdown",
   "id": "34f9d538-cf29-4fd1-84e5-b8e32063be17",
   "metadata": {},
   "source": [
    "Let's test out the very basic functionality. This site, Burga, makes cases for phones, tablets, laptops, and airpods. Maybe some other stuff."
   ]
  },
  {
   "cell_type": "code",
   "execution_count": 5,
   "id": "9828a419-f1f8-4cc1-9dae-23102a2cc8b7",
   "metadata": {},
   "outputs": [
    {
     "data": {
      "text/html": [
       "<div>\n",
       "<style scoped>\n",
       "    .dataframe tbody tr th:only-of-type {\n",
       "        vertical-align: middle;\n",
       "    }\n",
       "\n",
       "    .dataframe tbody tr th {\n",
       "        vertical-align: top;\n",
       "    }\n",
       "\n",
       "    .dataframe thead th {\n",
       "        text-align: right;\n",
       "    }\n",
       "</style>\n",
       "<table border=\"1\" class=\"dataframe\">\n",
       "  <thead>\n",
       "    <tr style=\"text-align: right;\">\n",
       "      <th></th>\n",
       "      <th>id</th>\n",
       "      <th>title</th>\n",
       "      <th>handle</th>\n",
       "      <th>body_html</th>\n",
       "      <th>published_at</th>\n",
       "      <th>created_at</th>\n",
       "      <th>updated_at</th>\n",
       "      <th>vendor</th>\n",
       "      <th>product_type</th>\n",
       "      <th>tags</th>\n",
       "      <th>variants</th>\n",
       "      <th>images</th>\n",
       "      <th>options</th>\n",
       "    </tr>\n",
       "  </thead>\n",
       "  <tbody>\n",
       "    <tr>\n",
       "      <th>0</th>\n",
       "      <td>7221549269167</td>\n",
       "      <td>Northern Lights - Marble Samsung Galaxy S22 Ul...</td>\n",
       "      <td>n-l-l</td>\n",
       "      <td>&lt;p&gt;* The case does not contain actual glitter-...</td>\n",
       "      <td>2022-04-26T10:54:30+03:00</td>\n",
       "      <td>2022-04-26T10:54:30+03:00</td>\n",
       "      <td>2022-05-09T21:11:28+03:00</td>\n",
       "      <td>BURGA</td>\n",
       "      <td>Phone Case</td>\n",
       "      <td>[custom_text:GYTIS, custom_text_color:#ffffff,...</td>\n",
       "      <td>[{'id': 41554229362863, 'title': 'Snap', 'opti...</td>\n",
       "      <td>[{'id': 33742816247983, 'created_at': '2022-04...</td>\n",
       "      <td>[{'name': 'Case Type', 'position': 1, 'values'...</td>\n",
       "    </tr>\n",
       "    <tr>\n",
       "      <th>1</th>\n",
       "      <td>7206143754415</td>\n",
       "      <td>Sparkling Tiara - Stars OnePlus 9 Pro Case</td>\n",
       "      <td>sparkling-tiara-oneplus-9-pro-case</td>\n",
       "      <td>&lt;p&gt;* The case does not contain actual glitter-...</td>\n",
       "      <td>2022-04-11T10:39:05+03:00</td>\n",
       "      <td>2022-04-11T09:26:26+03:00</td>\n",
       "      <td>2022-05-08T01:18:19+03:00</td>\n",
       "      <td>BURGA</td>\n",
       "      <td>Phone Case</td>\n",
       "      <td>[custom_text:STARS, custom_text_color:#fff7f0,...</td>\n",
       "      <td>[{'id': 41501283123375, 'title': 'Tough', 'opt...</td>\n",
       "      <td>[{'id': 33551594684591, 'created_at': '2022-04...</td>\n",
       "      <td>[{'name': 'Case Type', 'position': 1, 'values'...</td>\n",
       "    </tr>\n",
       "    <tr>\n",
       "      <th>2</th>\n",
       "      <td>7206143721647</td>\n",
       "      <td>Enchanted Mirror - Marble OnePlus 9 Pro Case</td>\n",
       "      <td>enchanted-mirror-oneplus-9-pro-case</td>\n",
       "      <td>&lt;p&gt;* The case does not contain actual glitter-...</td>\n",
       "      <td>2022-04-11T10:39:05+03:00</td>\n",
       "      <td>2022-04-11T09:26:18+03:00</td>\n",
       "      <td>2022-05-12T16:31:29+03:00</td>\n",
       "      <td>BURGA</td>\n",
       "      <td>Phone Case</td>\n",
       "      <td>[custom_text:GLOW, custom_text_color:#fff3e7, ...</td>\n",
       "      <td>[{'id': 41501282697391, 'title': 'Tough', 'opt...</td>\n",
       "      <td>[{'id': 33551593865391, 'created_at': '2022-04...</td>\n",
       "      <td>[{'name': 'Case Type', 'position': 1, 'values'...</td>\n",
       "    </tr>\n",
       "    <tr>\n",
       "      <th>3</th>\n",
       "      <td>7206143688879</td>\n",
       "      <td>Prince Charming - Stars OnePlus 9 Pro Case</td>\n",
       "      <td>prince-charming-oneplus-9-pro-case</td>\n",
       "      <td>&lt;p&gt;* The case does not contain actual glitter-...</td>\n",
       "      <td>2022-04-11T10:39:04+03:00</td>\n",
       "      <td>2022-04-11T09:26:10+03:00</td>\n",
       "      <td>2022-05-07T23:21:42+03:00</td>\n",
       "      <td>BURGA</td>\n",
       "      <td>Phone Case</td>\n",
       "      <td>[custom_text:1991, custom_text_color:#fff3e7, ...</td>\n",
       "      <td>[{'id': 41501282336943, 'title': 'Tough', 'opt...</td>\n",
       "      <td>[{'id': 33551593078959, 'created_at': '2022-04...</td>\n",
       "      <td>[{'name': 'Case Type', 'position': 1, 'values'...</td>\n",
       "    </tr>\n",
       "    <tr>\n",
       "      <th>4</th>\n",
       "      <td>7206143623343</td>\n",
       "      <td>Snow White - Marble OnePlus 9 Pro Case</td>\n",
       "      <td>snow-white-oneplus-9-pro-case</td>\n",
       "      <td>&lt;p&gt;* The case does not contain actual glitter-...</td>\n",
       "      <td>2022-04-11T10:39:04+03:00</td>\n",
       "      <td>2022-04-11T09:26:02+03:00</td>\n",
       "      <td>2022-05-08T01:03:31+03:00</td>\n",
       "      <td>BURGA</td>\n",
       "      <td>Phone Case</td>\n",
       "      <td>[custom_text:T.K, custom_text_color:#ffffff, c...</td>\n",
       "      <td>[{'id': 41501281878191, 'title': 'Tough', 'opt...</td>\n",
       "      <td>[{'id': 33551592358063, 'created_at': '2022-04...</td>\n",
       "      <td>[{'name': 'Case Type', 'position': 1, 'values'...</td>\n",
       "    </tr>\n",
       "  </tbody>\n",
       "</table>\n",
       "</div>"
      ],
      "text/plain": [
       "              id                                              title  \\\n",
       "0  7221549269167  Northern Lights - Marble Samsung Galaxy S22 Ul...   \n",
       "1  7206143754415         Sparkling Tiara - Stars OnePlus 9 Pro Case   \n",
       "2  7206143721647       Enchanted Mirror - Marble OnePlus 9 Pro Case   \n",
       "3  7206143688879         Prince Charming - Stars OnePlus 9 Pro Case   \n",
       "4  7206143623343             Snow White - Marble OnePlus 9 Pro Case   \n",
       "\n",
       "                                handle  \\\n",
       "0                                n-l-l   \n",
       "1   sparkling-tiara-oneplus-9-pro-case   \n",
       "2  enchanted-mirror-oneplus-9-pro-case   \n",
       "3   prince-charming-oneplus-9-pro-case   \n",
       "4        snow-white-oneplus-9-pro-case   \n",
       "\n",
       "                                           body_html  \\\n",
       "0  <p>* The case does not contain actual glitter-...   \n",
       "1  <p>* The case does not contain actual glitter-...   \n",
       "2  <p>* The case does not contain actual glitter-...   \n",
       "3  <p>* The case does not contain actual glitter-...   \n",
       "4  <p>* The case does not contain actual glitter-...   \n",
       "\n",
       "                published_at                 created_at  \\\n",
       "0  2022-04-26T10:54:30+03:00  2022-04-26T10:54:30+03:00   \n",
       "1  2022-04-11T10:39:05+03:00  2022-04-11T09:26:26+03:00   \n",
       "2  2022-04-11T10:39:05+03:00  2022-04-11T09:26:18+03:00   \n",
       "3  2022-04-11T10:39:04+03:00  2022-04-11T09:26:10+03:00   \n",
       "4  2022-04-11T10:39:04+03:00  2022-04-11T09:26:02+03:00   \n",
       "\n",
       "                  updated_at vendor product_type  \\\n",
       "0  2022-05-09T21:11:28+03:00  BURGA   Phone Case   \n",
       "1  2022-05-08T01:18:19+03:00  BURGA   Phone Case   \n",
       "2  2022-05-12T16:31:29+03:00  BURGA   Phone Case   \n",
       "3  2022-05-07T23:21:42+03:00  BURGA   Phone Case   \n",
       "4  2022-05-08T01:03:31+03:00  BURGA   Phone Case   \n",
       "\n",
       "                                                tags  \\\n",
       "0  [custom_text:GYTIS, custom_text_color:#ffffff,...   \n",
       "1  [custom_text:STARS, custom_text_color:#fff7f0,...   \n",
       "2  [custom_text:GLOW, custom_text_color:#fff3e7, ...   \n",
       "3  [custom_text:1991, custom_text_color:#fff3e7, ...   \n",
       "4  [custom_text:T.K, custom_text_color:#ffffff, c...   \n",
       "\n",
       "                                            variants  \\\n",
       "0  [{'id': 41554229362863, 'title': 'Snap', 'opti...   \n",
       "1  [{'id': 41501283123375, 'title': 'Tough', 'opt...   \n",
       "2  [{'id': 41501282697391, 'title': 'Tough', 'opt...   \n",
       "3  [{'id': 41501282336943, 'title': 'Tough', 'opt...   \n",
       "4  [{'id': 41501281878191, 'title': 'Tough', 'opt...   \n",
       "\n",
       "                                              images  \\\n",
       "0  [{'id': 33742816247983, 'created_at': '2022-04...   \n",
       "1  [{'id': 33551594684591, 'created_at': '2022-04...   \n",
       "2  [{'id': 33551593865391, 'created_at': '2022-04...   \n",
       "3  [{'id': 33551593078959, 'created_at': '2022-04...   \n",
       "4  [{'id': 33551592358063, 'created_at': '2022-04...   \n",
       "\n",
       "                                             options  \n",
       "0  [{'name': 'Case Type', 'position': 1, 'values'...  \n",
       "1  [{'name': 'Case Type', 'position': 1, 'values'...  \n",
       "2  [{'name': 'Case Type', 'position': 1, 'values'...  \n",
       "3  [{'name': 'Case Type', 'position': 1, 'values'...  \n",
       "4  [{'name': 'Case Type', 'position': 1, 'values'...  "
      ]
     },
     "execution_count": 5,
     "metadata": {},
     "output_type": "execute_result"
    }
   ],
   "source": [
    "prod = requests.get('https://burga.com/products.json')\n",
    "\n",
    "pdf = pd.DataFrame(prod.json()['products'])\n",
    "\n",
    "pdf.head()"
   ]
  },
  {
   "cell_type": "markdown",
   "id": "29544933-695e-4ded-8e8a-4bcbe7803856",
   "metadata": {},
   "source": [
    "let me see if we have all the data"
   ]
  },
  {
   "cell_type": "code",
   "execution_count": 6,
   "id": "cc3cb6f9-e330-4952-b76a-0f5d33ea0056",
   "metadata": {},
   "outputs": [
    {
     "data": {
      "text/plain": [
       "array(['Phone Case', 'iPad Case'], dtype=object)"
      ]
     },
     "execution_count": 6,
     "metadata": {},
     "output_type": "execute_result"
    }
   ],
   "source": [
    "pdf['product_type'].unique()"
   ]
  },
  {
   "cell_type": "markdown",
   "id": "53699380-c251-4767-ab3c-3fdc63541b1f",
   "metadata": {},
   "source": [
    "Right from the get go I can see that it's not picking up all the data. If you go to burga.com you'll see a lot more products. Let me see the length of the response"
   ]
  },
  {
   "cell_type": "code",
   "execution_count": 12,
   "id": "91daa610-e4fb-47c3-8064-0a8331a17e02",
   "metadata": {},
   "outputs": [
    {
     "data": {
      "text/plain": [
       "30"
      ]
     },
     "execution_count": 12,
     "metadata": {},
     "output_type": "execute_result"
    }
   ],
   "source": [
    "len(pdf)"
   ]
  },
  {
   "cell_type": "markdown",
   "id": "32d35a5a-81a9-4c16-9237-05a038cb567a",
   "metadata": {},
   "source": [
    "Ok so it's limiting us at 30? Turns out that this is a global thing - if you don't specify, you only get 30 items in a json response from this API. You'll see me check this on every response until I figure out how to get more than 30 items."
   ]
  },
  {
   "cell_type": "markdown",
   "id": "002e1618-4498-4246-81ab-e5bdb127f364",
   "metadata": {},
   "source": [
    "Here I'm looking for collections. I imagine there's some kind of hierarchy with collections that contain products, so I'm going to get the collections and then use those to get the items."
   ]
  },
  {
   "cell_type": "code",
   "execution_count": 7,
   "id": "fe491815-03cd-4231-ac24-6ed9894acfa5",
   "metadata": {},
   "outputs": [],
   "source": [
    "#seems like theres high level products, but there's some kidn of hierarchy. Let's look for collections\n",
    "collections = requests.get('https://www.burga.com/collections.json')"
   ]
  },
  {
   "cell_type": "code",
   "execution_count": 8,
   "id": "8e72b22f-7f64-4b67-91a2-8b4dea8c2cea",
   "metadata": {},
   "outputs": [
    {
     "data": {
      "text/plain": [
       "dict_keys(['id', 'title', 'handle', 'description', 'published_at', 'updated_at', 'image', 'products_count'])"
      ]
     },
     "execution_count": 8,
     "metadata": {},
     "output_type": "execute_result"
    }
   ],
   "source": [
    "collections.json()['collections'][0].keys()"
   ]
  },
  {
   "cell_type": "code",
   "execution_count": 9,
   "id": "7bcbc777-7ae5-4ee7-8994-f3a3954fb071",
   "metadata": {},
   "outputs": [
    {
     "data": {
      "text/plain": [
       "'Accessories'"
      ]
     },
     "execution_count": 9,
     "metadata": {},
     "output_type": "execute_result"
    }
   ],
   "source": [
    "collections.json()['collections'][0]['title']"
   ]
  },
  {
   "cell_type": "code",
   "execution_count": 10,
   "id": "fbc99d77-7de4-4499-8973-d3ef5ccd4c71",
   "metadata": {},
   "outputs": [],
   "source": [
    "cdf = pd.DataFrame(collections.json()['collections'])"
   ]
  },
  {
   "cell_type": "code",
   "execution_count": 14,
   "id": "8561234a-a407-4d14-91ee-2b042c528a56",
   "metadata": {},
   "outputs": [
    {
     "data": {
      "text/html": [
       "<div>\n",
       "<style scoped>\n",
       "    .dataframe tbody tr th:only-of-type {\n",
       "        vertical-align: middle;\n",
       "    }\n",
       "\n",
       "    .dataframe tbody tr th {\n",
       "        vertical-align: top;\n",
       "    }\n",
       "\n",
       "    .dataframe thead th {\n",
       "        text-align: right;\n",
       "    }\n",
       "</style>\n",
       "<table border=\"1\" class=\"dataframe\">\n",
       "  <thead>\n",
       "    <tr style=\"text-align: right;\">\n",
       "      <th></th>\n",
       "      <th>id</th>\n",
       "      <th>title</th>\n",
       "      <th>handle</th>\n",
       "      <th>description</th>\n",
       "      <th>published_at</th>\n",
       "      <th>updated_at</th>\n",
       "      <th>image</th>\n",
       "      <th>products_count</th>\n",
       "    </tr>\n",
       "  </thead>\n",
       "  <tbody>\n",
       "    <tr>\n",
       "      <th>0</th>\n",
       "      <td>282440958127</td>\n",
       "      <td>Accessories</td>\n",
       "      <td>accessories</td>\n",
       "      <td></td>\n",
       "      <td>2021-12-15T21:11:52+02:00</td>\n",
       "      <td>2022-05-12T17:50:49+03:00</td>\n",
       "      <td>None</td>\n",
       "      <td>13</td>\n",
       "    </tr>\n",
       "    <tr>\n",
       "      <th>1</th>\n",
       "      <td>268083626159</td>\n",
       "      <td>Airpod Max Cases</td>\n",
       "      <td>airpod-max-cases</td>\n",
       "      <td>&lt;p&gt;The AirPods Max headphones shook the world....</td>\n",
       "      <td>2021-05-24T17:40:24+03:00</td>\n",
       "      <td>2022-05-11T23:45:37+03:00</td>\n",
       "      <td>None</td>\n",
       "      <td>140</td>\n",
       "    </tr>\n",
       "    <tr>\n",
       "      <th>2</th>\n",
       "      <td>266627645615</td>\n",
       "      <td>Airpod Types</td>\n",
       "      <td>airpod-types</td>\n",
       "      <td></td>\n",
       "      <td>2021-05-10T17:50:58+03:00</td>\n",
       "      <td>2022-05-08T15:40:12+03:00</td>\n",
       "      <td>None</td>\n",
       "      <td>4</td>\n",
       "    </tr>\n",
       "    <tr>\n",
       "      <th>3</th>\n",
       "      <td>280987467951</td>\n",
       "      <td>AirPods 3 Cases</td>\n",
       "      <td>airpods-3-cases</td>\n",
       "      <td>&lt;p&gt;Your AirPods 3 need some love, too! Choose ...</td>\n",
       "      <td>2021-10-25T19:53:16+03:00</td>\n",
       "      <td>2022-05-12T16:05:35+03:00</td>\n",
       "      <td>None</td>\n",
       "      <td>143</td>\n",
       "    </tr>\n",
       "    <tr>\n",
       "      <th>4</th>\n",
       "      <td>266500440239</td>\n",
       "      <td>AirPods Cases</td>\n",
       "      <td>airpod-cases</td>\n",
       "      <td>&lt;p&gt;Revive your AirPods with a fresh new look. ...</td>\n",
       "      <td>2021-05-08T16:30:49+03:00</td>\n",
       "      <td>2022-05-12T12:50:47+03:00</td>\n",
       "      <td>None</td>\n",
       "      <td>149</td>\n",
       "    </tr>\n",
       "    <tr>\n",
       "      <th>5</th>\n",
       "      <td>266494640303</td>\n",
       "      <td>AirPods Pro Cases</td>\n",
       "      <td>airpods-pro-cases</td>\n",
       "      <td>&lt;p&gt;Your AirPods Pro need some love, too! Choos...</td>\n",
       "      <td>2021-05-08T14:13:32+03:00</td>\n",
       "      <td>2022-05-12T07:35:19+03:00</td>\n",
       "      <td>None</td>\n",
       "      <td>140</td>\n",
       "    </tr>\n",
       "    <tr>\n",
       "      <th>6</th>\n",
       "      <td>263714144431</td>\n",
       "      <td>All models</td>\n",
       "      <td>all-models</td>\n",
       "      <td></td>\n",
       "      <td>2021-04-02T17:24:33+03:00</td>\n",
       "      <td>2022-05-11T23:50:45+03:00</td>\n",
       "      <td>None</td>\n",
       "      <td>74</td>\n",
       "    </tr>\n",
       "    <tr>\n",
       "      <th>7</th>\n",
       "      <td>168930246742</td>\n",
       "      <td>All Products (Flexify)</td>\n",
       "      <td>all-products-flexify</td>\n",
       "      <td></td>\n",
       "      <td>2020-05-18T14:43:32+03:00</td>\n",
       "      <td>2022-05-12T18:16:05+03:00</td>\n",
       "      <td>None</td>\n",
       "      <td>16275</td>\n",
       "    </tr>\n",
       "    <tr>\n",
       "      <th>8</th>\n",
       "      <td>279820763311</td>\n",
       "      <td>Apple Watch Bands</td>\n",
       "      <td>apple-watch-bands</td>\n",
       "      <td>&lt;p&gt;Tired of your boring old Apple Watch straps...</td>\n",
       "      <td>2021-09-28T13:10:38+03:00</td>\n",
       "      <td>2022-05-08T04:37:06+03:00</td>\n",
       "      <td>None</td>\n",
       "      <td>148</td>\n",
       "    </tr>\n",
       "    <tr>\n",
       "      <th>9</th>\n",
       "      <td>172213010518</td>\n",
       "      <td>Backyard Stories</td>\n",
       "      <td>backyard-stories</td>\n",
       "      <td>&lt;div&gt;It’s time to discover the beauty of our o...</td>\n",
       "      <td>2020-08-18T14:28:48+03:00</td>\n",
       "      <td>2022-05-12T17:25:52+03:00</td>\n",
       "      <td>{'id': 940383633494, 'created_at': '2020-08-18...</td>\n",
       "      <td>744</td>\n",
       "    </tr>\n",
       "  </tbody>\n",
       "</table>\n",
       "</div>"
      ],
      "text/plain": [
       "             id                   title                handle  \\\n",
       "0  282440958127             Accessories           accessories   \n",
       "1  268083626159        Airpod Max Cases      airpod-max-cases   \n",
       "2  266627645615            Airpod Types          airpod-types   \n",
       "3  280987467951         AirPods 3 Cases       airpods-3-cases   \n",
       "4  266500440239           AirPods Cases          airpod-cases   \n",
       "5  266494640303       AirPods Pro Cases     airpods-pro-cases   \n",
       "6  263714144431              All models            all-models   \n",
       "7  168930246742  All Products (Flexify)  all-products-flexify   \n",
       "8  279820763311       Apple Watch Bands     apple-watch-bands   \n",
       "9  172213010518        Backyard Stories      backyard-stories   \n",
       "\n",
       "                                         description  \\\n",
       "0                                                      \n",
       "1  <p>The AirPods Max headphones shook the world....   \n",
       "2                                                      \n",
       "3  <p>Your AirPods 3 need some love, too! Choose ...   \n",
       "4  <p>Revive your AirPods with a fresh new look. ...   \n",
       "5  <p>Your AirPods Pro need some love, too! Choos...   \n",
       "6                                                      \n",
       "7                                                      \n",
       "8  <p>Tired of your boring old Apple Watch straps...   \n",
       "9  <div>It’s time to discover the beauty of our o...   \n",
       "\n",
       "                published_at                 updated_at  \\\n",
       "0  2021-12-15T21:11:52+02:00  2022-05-12T17:50:49+03:00   \n",
       "1  2021-05-24T17:40:24+03:00  2022-05-11T23:45:37+03:00   \n",
       "2  2021-05-10T17:50:58+03:00  2022-05-08T15:40:12+03:00   \n",
       "3  2021-10-25T19:53:16+03:00  2022-05-12T16:05:35+03:00   \n",
       "4  2021-05-08T16:30:49+03:00  2022-05-12T12:50:47+03:00   \n",
       "5  2021-05-08T14:13:32+03:00  2022-05-12T07:35:19+03:00   \n",
       "6  2021-04-02T17:24:33+03:00  2022-05-11T23:50:45+03:00   \n",
       "7  2020-05-18T14:43:32+03:00  2022-05-12T18:16:05+03:00   \n",
       "8  2021-09-28T13:10:38+03:00  2022-05-08T04:37:06+03:00   \n",
       "9  2020-08-18T14:28:48+03:00  2022-05-12T17:25:52+03:00   \n",
       "\n",
       "                                               image  products_count  \n",
       "0                                               None              13  \n",
       "1                                               None             140  \n",
       "2                                               None               4  \n",
       "3                                               None             143  \n",
       "4                                               None             149  \n",
       "5                                               None             140  \n",
       "6                                               None              74  \n",
       "7                                               None           16275  \n",
       "8                                               None             148  \n",
       "9  {'id': 940383633494, 'created_at': '2020-08-18...             744  "
      ]
     },
     "execution_count": 14,
     "metadata": {},
     "output_type": "execute_result"
    }
   ],
   "source": [
    "cdf.head(10)"
   ]
  },
  {
   "cell_type": "code",
   "execution_count": 12,
   "id": "e2bfb710-371b-41d1-a809-1ee1c835f447",
   "metadata": {},
   "outputs": [
    {
     "data": {
      "text/plain": [
       "30"
      ]
     },
     "execution_count": 12,
     "metadata": {},
     "output_type": "execute_result"
    }
   ],
   "source": [
    "len(cdf)"
   ]
  },
  {
   "cell_type": "markdown",
   "id": "63ccef4b-e0ba-4e57-8d2e-80df65b7ef3d",
   "metadata": {},
   "source": [
    "30 items!\n",
    "\n",
    "Next I'm going to look at one of the collections. A couple of things\n",
    "- I noticed that the handle looks like the url structure when you actually visit the site so that's what I'll try for the api call.\n",
    "- I'm looking at the all-products-flexify object and seeing it hsa 16k products.  I'm going to see if I get all of them by specifying down to a collection"
   ]
  },
  {
   "cell_type": "code",
   "execution_count": 27,
   "id": "daf0c271-5c73-414e-a7d3-f01cee69cd93",
   "metadata": {},
   "outputs": [],
   "source": [
    "flexify = requests.get('http://burga.com/collections/all-products-flexify/products.json')"
   ]
  },
  {
   "cell_type": "code",
   "execution_count": 28,
   "id": "d379d0ad-15d6-4ce0-b3fa-9754f16e75de",
   "metadata": {},
   "outputs": [
    {
     "data": {
      "text/plain": [
       "dict_keys(['products'])"
      ]
     },
     "execution_count": 28,
     "metadata": {},
     "output_type": "execute_result"
    }
   ],
   "source": [
    "flexify.json().keys()"
   ]
  },
  {
   "cell_type": "code",
   "execution_count": 30,
   "id": "0ae16c3e-6fef-4116-a351-baecd319e709",
   "metadata": {},
   "outputs": [
    {
     "data": {
      "text/plain": [
       "30"
      ]
     },
     "execution_count": 30,
     "metadata": {},
     "output_type": "execute_result"
    }
   ],
   "source": [
    "len(flexify.json()['products']) "
   ]
  },
  {
   "cell_type": "markdown",
   "id": "c2f62214-3fb8-467f-9f57-cfb92edf197d",
   "metadata": {},
   "source": [
    "30 products! I'm going to try to get more. I need all the products. I have a pretty basic udnerstanding of how API's work so I'm looking for the number 30 in the headers."
   ]
  },
  {
   "cell_type": "code",
   "execution_count": 35,
   "id": "69b22fe0-fc80-4b64-a4f4-ed298400583f",
   "metadata": {},
   "outputs": [
    {
     "data": {
      "text/plain": [
       "{'Date': 'Wed, 30 Mar 2022 01:10:59 GMT', 'Content-Type': 'application/json; charset=utf-8', 'Transfer-Encoding': 'chunked', 'Connection': 'keep-alive', 'X-Sorting-Hat-PodId': '174', 'X-Sorting-Hat-ShopId': '21002577', 'X-Storefront-Renderer-Rendered': '1', 'Set-Cookie': 'secure_customer_sig=; path=/; expires=Thu, 30 Mar 2023 01:10:59 GMT; secure; HttpOnly; SameSite=Lax, localization=US; path=/; expires=Wed, 13 Apr 2022 01:10:59 GMT, _y=6b61480b-2e5f-438d-be76-0ecffd698a06; Expires=Thu, 30-Mar-23 01:10:59 GMT; Domain=burga.com; Path=/; SameSite=Lax, _s=4d6227b1-c2c2-4c62-ad90-76886622c422; Expires=Wed, 30-Mar-22 01:40:59 GMT; Domain=burga.com; Path=/; SameSite=Lax, _shopify_y=6b61480b-2e5f-438d-be76-0ecffd698a06; Expires=Thu, 30-Mar-23 01:10:59 GMT; Domain=burga.com; Path=/; SameSite=Lax, _shopify_s=4d6227b1-c2c2-4c62-ad90-76886622c422; Expires=Wed, 30-Mar-22 01:40:59 GMT; Domain=burga.com; Path=/; SameSite=Lax', 'X-Alternate-Cache-Key': 'cacheable:1e014b5c6d0b1fde612ffa4b1a9b18da', 'X-Cache': 'miss', 'Content-Security-Policy': 'block-all-mixed-content; frame-ancestors *; upgrade-insecure-requests;', 'Access-Control-Allow-Origin': '*', 'Strict-Transport-Security': 'max-age=7889238', 'X-ShopId': '21002577', 'X-ShardId': '174', 'Vary': 'Accept', 'Content-Language': 'en', 'X-Shopify-Stage': 'production', 'X-Dc': 'gcp-us-central1,gcp-us-central1,gcp-us-central1', 'X-Request-ID': '697776fc-b28b-4d5d-8665-a1632d3686d7', 'X-XSS-Protection': '1; mode=block', 'X-Download-Options': 'noopen', 'X-Content-Type-Options': 'nosniff', 'X-Permitted-Cross-Domain-Policies': 'none', 'CF-Cache-Status': 'DYNAMIC', 'Expect-CT': 'max-age=604800, report-uri=\"https://report-uri.cloudflare.com/cdn-cgi/beacon/expect-ct\"', 'Server': 'cloudflare', 'CF-RAY': '6f3cf7fddc1993f5-DFW', 'Content-Encoding': 'br', 'alt-svc': 'h3=\":443\"; ma=86400, h3-29=\":443\"; ma=86400'}"
      ]
     },
     "execution_count": 35,
     "metadata": {},
     "output_type": "execute_result"
    }
   ],
   "source": [
    "flexify.headers"
   ]
  },
  {
   "cell_type": "markdown",
   "id": "51b9811e-fda9-4c95-afd4-52ddca5a740b",
   "metadata": {},
   "source": [
    "Here I'm trying the naive thing and adding a limit parameter to the API call. Turns out it works."
   ]
  },
  {
   "cell_type": "code",
   "execution_count": 15,
   "id": "a6a1cd47-1392-4a86-8106-3f78f5a07060",
   "metadata": {},
   "outputs": [],
   "source": [
    "pixel = requests.get('http://burga.com/collections/google-pixel-2-cases/products.json',params={'limit':1000})"
   ]
  },
  {
   "cell_type": "code",
   "execution_count": 16,
   "id": "079acfc6-940a-410e-b03e-fecd91b126d7",
   "metadata": {},
   "outputs": [
    {
     "data": {
      "text/plain": [
       "151"
      ]
     },
     "execution_count": 16,
     "metadata": {},
     "output_type": "execute_result"
    }
   ],
   "source": [
    "len(pixel.json()['products'])"
   ]
  },
  {
   "cell_type": "markdown",
   "id": "8ac57f6b-44b3-4982-b0ea-8210f4e29c04",
   "metadata": {},
   "source": [
    "Let's look at the \"elite\" phone cases. This is what I actually want to buy."
   ]
  },
  {
   "cell_type": "code",
   "execution_count": 17,
   "id": "f18a8b4d-6326-4187-a49b-a6e5a1b96964",
   "metadata": {},
   "outputs": [],
   "source": [
    "elite = requests.get('http://burga.com/collections/elite-cases-burger-nav/products.json',params={'limit':1000})"
   ]
  },
  {
   "cell_type": "code",
   "execution_count": 18,
   "id": "2b39234b-db7c-4cf0-b3b2-cf6c40901fc5",
   "metadata": {},
   "outputs": [
    {
     "data": {
      "text/plain": [
       "250"
      ]
     },
     "execution_count": 18,
     "metadata": {},
     "output_type": "execute_result"
    }
   ],
   "source": [
    "len(elite.json()['products'])"
   ]
  },
  {
   "cell_type": "code",
   "execution_count": 19,
   "id": "928e10d8-87cb-4e01-acb1-6b8fdc8556d4",
   "metadata": {},
   "outputs": [],
   "source": [
    "edf = pd.DataFrame(elite.json()['products'])"
   ]
  },
  {
   "cell_type": "code",
   "execution_count": 20,
   "id": "37bf4d24-ad0f-4063-bc71-09d69a38a9f0",
   "metadata": {},
   "outputs": [
    {
     "data": {
      "text/html": [
       "<div>\n",
       "<style scoped>\n",
       "    .dataframe tbody tr th:only-of-type {\n",
       "        vertical-align: middle;\n",
       "    }\n",
       "\n",
       "    .dataframe tbody tr th {\n",
       "        vertical-align: top;\n",
       "    }\n",
       "\n",
       "    .dataframe thead th {\n",
       "        text-align: right;\n",
       "    }\n",
       "</style>\n",
       "<table border=\"1\" class=\"dataframe\">\n",
       "  <thead>\n",
       "    <tr style=\"text-align: right;\">\n",
       "      <th></th>\n",
       "      <th>id</th>\n",
       "      <th>title</th>\n",
       "      <th>handle</th>\n",
       "      <th>body_html</th>\n",
       "      <th>published_at</th>\n",
       "      <th>created_at</th>\n",
       "      <th>updated_at</th>\n",
       "      <th>vendor</th>\n",
       "      <th>product_type</th>\n",
       "      <th>tags</th>\n",
       "      <th>variants</th>\n",
       "      <th>images</th>\n",
       "      <th>options</th>\n",
       "    </tr>\n",
       "  </thead>\n",
       "  <tbody>\n",
       "    <tr>\n",
       "      <th>0</th>\n",
       "      <td>6939995242671</td>\n",
       "      <td>Almond Latte - Cute iPhone 13 Pro Max Case</td>\n",
       "      <td>cute-iphone-13-pro-max-case</td>\n",
       "      <td>&lt;p&gt;Cute cream color as a background for the un...</td>\n",
       "      <td>2021-09-14T21:39:24+03:00</td>\n",
       "      <td>2021-09-14T21:39:29+03:00</td>\n",
       "      <td>2022-05-12T04:40:48+03:00</td>\n",
       "      <td>BURGA</td>\n",
       "      <td>Phone Case</td>\n",
       "      <td>[Beige, design:Almond Latte - Cute, fw19, mode...</td>\n",
       "      <td>[{'id': 40642467987631, 'title': 'Snap', 'opti...</td>\n",
       "      <td>[{'id': 32707641868463, 'created_at': '2022-01...</td>\n",
       "      <td>[{'name': 'Case Type', 'position': 1, 'values'...</td>\n",
       "    </tr>\n",
       "    <tr>\n",
       "      <th>1</th>\n",
       "      <td>6602849583279</td>\n",
       "      <td>Almond Latte - Cute iPhone 12 Pro Max Case</td>\n",
       "      <td>cute-iphone-12-pro-max-case</td>\n",
       "      <td>&lt;p&gt;Cute cream color as a background for the un...</td>\n",
       "      <td>2021-04-01T12:30:05+03:00</td>\n",
       "      <td>2021-04-01T12:30:12+03:00</td>\n",
       "      <td>2022-05-11T10:30:20+03:00</td>\n",
       "      <td>BURGA</td>\n",
       "      <td>Phone Case</td>\n",
       "      <td>[Beige, design:Almond Latte - Cute, fw19, mode...</td>\n",
       "      <td>[{'id': 39488378667183, 'title': 'Snap', 'opti...</td>\n",
       "      <td>[{'id': 32707649339567, 'created_at': '2022-01...</td>\n",
       "      <td>[{'name': 'Case Type', 'position': 1, 'values'...</td>\n",
       "    </tr>\n",
       "    <tr>\n",
       "      <th>2</th>\n",
       "      <td>6939994914991</td>\n",
       "      <td>Almond Latte - Cute iPhone 13 Pro Case</td>\n",
       "      <td>cute-iphone-13-pro-case</td>\n",
       "      <td>&lt;p&gt;Cute cream color as a background for the un...</td>\n",
       "      <td>2021-09-14T21:39:17+03:00</td>\n",
       "      <td>2021-09-14T21:39:22+03:00</td>\n",
       "      <td>2022-05-12T18:23:35+03:00</td>\n",
       "      <td>BURGA</td>\n",
       "      <td>Phone Case</td>\n",
       "      <td>[Beige, design:Almond Latte - Cute, fw19, mode...</td>\n",
       "      <td>[{'id': 40642467561647, 'title': 'Snap', 'opti...</td>\n",
       "      <td>[{'id': 32707639476399, 'created_at': '2022-01...</td>\n",
       "      <td>[{'name': 'Case Type', 'position': 1, 'values'...</td>\n",
       "    </tr>\n",
       "    <tr>\n",
       "      <th>3</th>\n",
       "      <td>6602849714351</td>\n",
       "      <td>Almond Latte - Cute iPhone 11 Case</td>\n",
       "      <td>cute-iphone-11-case</td>\n",
       "      <td>&lt;p&gt;Cute cream color as a background for the un...</td>\n",
       "      <td>2021-04-01T12:30:14+03:00</td>\n",
       "      <td>2021-04-01T12:30:21+03:00</td>\n",
       "      <td>2022-05-12T10:40:13+03:00</td>\n",
       "      <td>BURGA</td>\n",
       "      <td>Phone Case</td>\n",
       "      <td>[Beige, design:Almond Latte - Cute, fw19, mode...</td>\n",
       "      <td>[{'id': 39488378831023, 'title': 'Snap', 'opti...</td>\n",
       "      <td>[{'id': 32705721303215, 'created_at': '2022-01...</td>\n",
       "      <td>[{'name': 'Case Type', 'position': 1, 'values'...</td>\n",
       "    </tr>\n",
       "    <tr>\n",
       "      <th>4</th>\n",
       "      <td>6602849452207</td>\n",
       "      <td>Almond Latte - Cute iPhone 12 Pro Case</td>\n",
       "      <td>cute-iphone-12-pro-case</td>\n",
       "      <td>&lt;p&gt;Cute cream color as a background for the un...</td>\n",
       "      <td>2021-04-01T12:29:56+03:00</td>\n",
       "      <td>2021-04-01T12:30:03+03:00</td>\n",
       "      <td>2022-05-10T23:20:29+03:00</td>\n",
       "      <td>BURGA</td>\n",
       "      <td>Phone Case</td>\n",
       "      <td>[Beige, design:Almond Latte - Cute, fw19, mode...</td>\n",
       "      <td>[{'id': 39488378372271, 'title': 'Snap', 'opti...</td>\n",
       "      <td>[{'id': 32707647602863, 'created_at': '2022-01...</td>\n",
       "      <td>[{'name': 'Case Type', 'position': 1, 'values'...</td>\n",
       "    </tr>\n",
       "  </tbody>\n",
       "</table>\n",
       "</div>"
      ],
      "text/plain": [
       "              id                                       title  \\\n",
       "0  6939995242671  Almond Latte - Cute iPhone 13 Pro Max Case   \n",
       "1  6602849583279  Almond Latte - Cute iPhone 12 Pro Max Case   \n",
       "2  6939994914991      Almond Latte - Cute iPhone 13 Pro Case   \n",
       "3  6602849714351          Almond Latte - Cute iPhone 11 Case   \n",
       "4  6602849452207      Almond Latte - Cute iPhone 12 Pro Case   \n",
       "\n",
       "                        handle  \\\n",
       "0  cute-iphone-13-pro-max-case   \n",
       "1  cute-iphone-12-pro-max-case   \n",
       "2      cute-iphone-13-pro-case   \n",
       "3          cute-iphone-11-case   \n",
       "4      cute-iphone-12-pro-case   \n",
       "\n",
       "                                           body_html  \\\n",
       "0  <p>Cute cream color as a background for the un...   \n",
       "1  <p>Cute cream color as a background for the un...   \n",
       "2  <p>Cute cream color as a background for the un...   \n",
       "3  <p>Cute cream color as a background for the un...   \n",
       "4  <p>Cute cream color as a background for the un...   \n",
       "\n",
       "                published_at                 created_at  \\\n",
       "0  2021-09-14T21:39:24+03:00  2021-09-14T21:39:29+03:00   \n",
       "1  2021-04-01T12:30:05+03:00  2021-04-01T12:30:12+03:00   \n",
       "2  2021-09-14T21:39:17+03:00  2021-09-14T21:39:22+03:00   \n",
       "3  2021-04-01T12:30:14+03:00  2021-04-01T12:30:21+03:00   \n",
       "4  2021-04-01T12:29:56+03:00  2021-04-01T12:30:03+03:00   \n",
       "\n",
       "                  updated_at vendor product_type  \\\n",
       "0  2022-05-12T04:40:48+03:00  BURGA   Phone Case   \n",
       "1  2022-05-11T10:30:20+03:00  BURGA   Phone Case   \n",
       "2  2022-05-12T18:23:35+03:00  BURGA   Phone Case   \n",
       "3  2022-05-12T10:40:13+03:00  BURGA   Phone Case   \n",
       "4  2022-05-10T23:20:29+03:00  BURGA   Phone Case   \n",
       "\n",
       "                                                tags  \\\n",
       "0  [Beige, design:Almond Latte - Cute, fw19, mode...   \n",
       "1  [Beige, design:Almond Latte - Cute, fw19, mode...   \n",
       "2  [Beige, design:Almond Latte - Cute, fw19, mode...   \n",
       "3  [Beige, design:Almond Latte - Cute, fw19, mode...   \n",
       "4  [Beige, design:Almond Latte - Cute, fw19, mode...   \n",
       "\n",
       "                                            variants  \\\n",
       "0  [{'id': 40642467987631, 'title': 'Snap', 'opti...   \n",
       "1  [{'id': 39488378667183, 'title': 'Snap', 'opti...   \n",
       "2  [{'id': 40642467561647, 'title': 'Snap', 'opti...   \n",
       "3  [{'id': 39488378831023, 'title': 'Snap', 'opti...   \n",
       "4  [{'id': 39488378372271, 'title': 'Snap', 'opti...   \n",
       "\n",
       "                                              images  \\\n",
       "0  [{'id': 32707641868463, 'created_at': '2022-01...   \n",
       "1  [{'id': 32707649339567, 'created_at': '2022-01...   \n",
       "2  [{'id': 32707639476399, 'created_at': '2022-01...   \n",
       "3  [{'id': 32705721303215, 'created_at': '2022-01...   \n",
       "4  [{'id': 32707647602863, 'created_at': '2022-01...   \n",
       "\n",
       "                                             options  \n",
       "0  [{'name': 'Case Type', 'position': 1, 'values'...  \n",
       "1  [{'name': 'Case Type', 'position': 1, 'values'...  \n",
       "2  [{'name': 'Case Type', 'position': 1, 'values'...  \n",
       "3  [{'name': 'Case Type', 'position': 1, 'values'...  \n",
       "4  [{'name': 'Case Type', 'position': 1, 'values'...  "
      ]
     },
     "execution_count": 20,
     "metadata": {},
     "output_type": "execute_result"
    }
   ],
   "source": [
    "edf.head()"
   ]
  },
  {
   "cell_type": "markdown",
   "id": "d7c848e1-646e-4fe0-abe5-1b23a1450a8a",
   "metadata": {},
   "source": [
    "Looks like we have some metadata to parse out here. Specifically, I want to look at those json columns. There's some info that I'm not getting at the product level, so maybe it exists in those jsons"
   ]
  },
  {
   "cell_type": "code",
   "execution_count": 21,
   "id": "7a073573-15db-4764-86a4-26aa7112e192",
   "metadata": {},
   "outputs": [
    {
     "data": {
      "text/plain": [
       "['Beige',\n",
       " 'design:Almond Latte - Cute',\n",
       " 'fw19',\n",
       " 'model:iPhone 13 Pro Max',\n",
       " 'PhoneCase2',\n",
       " 'recomatic-model:iPhone 13 Pro Max']"
      ]
     },
     "execution_count": 21,
     "metadata": {},
     "output_type": "execute_result"
    }
   ],
   "source": [
    "edf.loc[0,'tags']"
   ]
  },
  {
   "cell_type": "markdown",
   "id": "aaa92dcd-63c1-477d-9f5e-87af1434ad91",
   "metadata": {},
   "source": [
    "Doesn't look that useful. Maybe the color is good but it's not actually a json, which is disappointing. Let's look at the next one, variants:"
   ]
  },
  {
   "cell_type": "code",
   "execution_count": 22,
   "id": "6bd0b26e-42ad-4a38-a890-1e857cc632d0",
   "metadata": {},
   "outputs": [
    {
     "data": {
      "text/plain": [
       "[{'id': 40642467987631,\n",
       "  'title': 'Snap',\n",
       "  'option1': 'Snap',\n",
       "  'option2': None,\n",
       "  'option3': None,\n",
       "  'sku': 'FA_01_IP13PROMAX_SP',\n",
       "  'requires_shipping': True,\n",
       "  'taxable': True,\n",
       "  'featured_image': {'id': 32707641868463,\n",
       "   'product_id': 6939995242671,\n",
       "   'position': 1,\n",
       "   'created_at': '2022-01-24T23:52:34+02:00',\n",
       "   'updated_at': '2022-01-24T23:52:34+02:00',\n",
       "   'alt': 'FA_01_IP13PROMAX_SP',\n",
       "   'width': 1263,\n",
       "   'height': 1263,\n",
       "   'src': 'https://cdn.shopify.com/s/files/1/2100/2577/products/FA-01-A01AA_f6b6c376-6c76-45f9-8307-556d4124c204.jpg?v=1643061154',\n",
       "   'variant_ids': [40642467987631]},\n",
       "  'available': True,\n",
       "  'price': '29.95',\n",
       "  'grams': 29,\n",
       "  'compare_at_price': None,\n",
       "  'position': 1,\n",
       "  'product_id': 6939995242671,\n",
       "  'created_at': '2021-09-14T21:39:29+03:00',\n",
       "  'updated_at': '2022-05-11T16:12:25+03:00'},\n",
       " {'id': 40642468020399,\n",
       "  'title': 'Tough',\n",
       "  'option1': 'Tough',\n",
       "  'option2': None,\n",
       "  'option3': None,\n",
       "  'sku': 'FA_01_IP13PROMAX_TH',\n",
       "  'requires_shipping': True,\n",
       "  'taxable': True,\n",
       "  'featured_image': {'id': 32707642032303,\n",
       "   'product_id': 6939995242671,\n",
       "   'position': 5,\n",
       "   'created_at': '2022-01-24T23:52:34+02:00',\n",
       "   'updated_at': '2022-01-24T23:52:34+02:00',\n",
       "   'alt': 'FA_01_IP13PROMAX_TH FA_01_IP13PROMAX_TH-magsafe',\n",
       "   'width': 1263,\n",
       "   'height': 1263,\n",
       "   'src': 'https://cdn.shopify.com/s/files/1/2100/2577/products/FA-01-A01BA_4a6fc61e-4c65-4231-81bf-23a7c614ed63.jpg?v=1643061154',\n",
       "   'variant_ids': [40642468020399, 41551436251311]},\n",
       "  'available': True,\n",
       "  'price': '44.95',\n",
       "  'grams': 39,\n",
       "  'compare_at_price': None,\n",
       "  'position': 2,\n",
       "  'product_id': 6939995242671,\n",
       "  'created_at': '2021-09-14T21:39:29+03:00',\n",
       "  'updated_at': '2022-05-12T04:36:45+03:00'},\n",
       " {'id': 41227336450223,\n",
       "  'title': 'Elite Dark',\n",
       "  'option1': 'Elite Dark',\n",
       "  'option2': None,\n",
       "  'option3': None,\n",
       "  'sku': 'FA_01EL_IP13PROMAX_EL-dark',\n",
       "  'requires_shipping': True,\n",
       "  'taxable': True,\n",
       "  'featured_image': {'id': 32707642196143,\n",
       "   'product_id': 6939995242671,\n",
       "   'position': 9,\n",
       "   'created_at': '2022-01-24T23:52:35+02:00',\n",
       "   'updated_at': '2022-01-24T23:52:35+02:00',\n",
       "   'alt': 'FA_01EL_IP13PROMAX_EL-dark FA_01EL_IP13PROMAX_EL-dark-magsafe',\n",
       "   'width': 1200,\n",
       "   'height': 1200,\n",
       "   'src': 'https://cdn.shopify.com/s/files/1/2100/2577/products/FA-01EL-A01CA_7d96bd1b-1323-42d3-a265-0b53ac8dfeda.jpg?v=1643061155',\n",
       "   'variant_ids': [41227336450223, 41551436284079]},\n",
       "  'available': True,\n",
       "  'price': '79.95',\n",
       "  'grams': 45,\n",
       "  'compare_at_price': None,\n",
       "  'position': 3,\n",
       "  'product_id': 6939995242671,\n",
       "  'created_at': '2022-01-24T23:52:35+02:00',\n",
       "  'updated_at': '2022-05-11T15:39:50+03:00'},\n",
       " {'id': 41551436251311,\n",
       "  'title': 'Tough (MagSafe)',\n",
       "  'option1': 'Tough (MagSafe)',\n",
       "  'option2': None,\n",
       "  'option3': None,\n",
       "  'sku': 'FA_01_IP13PROMAX_TH-magsafe',\n",
       "  'requires_shipping': True,\n",
       "  'taxable': True,\n",
       "  'featured_image': {'id': 32707642032303,\n",
       "   'product_id': 6939995242671,\n",
       "   'position': 5,\n",
       "   'created_at': '2022-01-24T23:52:34+02:00',\n",
       "   'updated_at': '2022-01-24T23:52:34+02:00',\n",
       "   'alt': 'FA_01_IP13PROMAX_TH FA_01_IP13PROMAX_TH-magsafe',\n",
       "   'width': 1263,\n",
       "   'height': 1263,\n",
       "   'src': 'https://cdn.shopify.com/s/files/1/2100/2577/products/FA-01-A01BA_4a6fc61e-4c65-4231-81bf-23a7c614ed63.jpg?v=1643061154',\n",
       "   'variant_ids': [40642468020399, 41551436251311]},\n",
       "  'available': True,\n",
       "  'price': '49.90',\n",
       "  'grams': 49,\n",
       "  'compare_at_price': None,\n",
       "  'position': 4,\n",
       "  'product_id': 6939995242671,\n",
       "  'created_at': '2022-04-25T17:08:52+03:00',\n",
       "  'updated_at': '2022-05-11T10:20:07+03:00'},\n",
       " {'id': 41551436284079,\n",
       "  'title': 'Elite Dark (MagSafe)',\n",
       "  'option1': 'Elite Dark (MagSafe)',\n",
       "  'option2': None,\n",
       "  'option3': None,\n",
       "  'sku': 'FA_01EL_IP13PROMAX_EL-dark-magsafe',\n",
       "  'requires_shipping': True,\n",
       "  'taxable': True,\n",
       "  'featured_image': {'id': 32707642196143,\n",
       "   'product_id': 6939995242671,\n",
       "   'position': 9,\n",
       "   'created_at': '2022-01-24T23:52:35+02:00',\n",
       "   'updated_at': '2022-01-24T23:52:35+02:00',\n",
       "   'alt': 'FA_01EL_IP13PROMAX_EL-dark FA_01EL_IP13PROMAX_EL-dark-magsafe',\n",
       "   'width': 1200,\n",
       "   'height': 1200,\n",
       "   'src': 'https://cdn.shopify.com/s/files/1/2100/2577/products/FA-01EL-A01CA_7d96bd1b-1323-42d3-a265-0b53ac8dfeda.jpg?v=1643061155',\n",
       "   'variant_ids': [41227336450223, 41551436284079]},\n",
       "  'available': True,\n",
       "  'price': '84.90',\n",
       "  'grams': 55,\n",
       "  'compare_at_price': None,\n",
       "  'position': 5,\n",
       "  'product_id': 6939995242671,\n",
       "  'created_at': '2022-04-25T17:08:52+03:00',\n",
       "  'updated_at': '2022-05-01T15:15:41+03:00'}]"
      ]
     },
     "execution_count": 22,
     "metadata": {},
     "output_type": "execute_result"
    }
   ],
   "source": [
    "edf.loc[0,'variants']"
   ]
  },
  {
   "cell_type": "markdown",
   "id": "cbd34d94-823a-4ff7-a83a-d3b8b79fde56",
   "metadata": {},
   "source": [
    "Oh yea, now we're cookin. Here we're getting different variants and their individual prices, as well as their images. On the site, these exist on the same product page. Kind of like different colors or sizes for a t shirt. Let's see if we can find one of those variants as a product_id:"
   ]
  },
  {
   "cell_type": "code",
   "execution_count": 53,
   "id": "29ce9ed0-e43a-4842-a148-94947bfa9220",
   "metadata": {},
   "outputs": [
    {
     "data": {
      "text/html": [
       "<div>\n",
       "<style scoped>\n",
       "    .dataframe tbody tr th:only-of-type {\n",
       "        vertical-align: middle;\n",
       "    }\n",
       "\n",
       "    .dataframe tbody tr th {\n",
       "        vertical-align: top;\n",
       "    }\n",
       "\n",
       "    .dataframe thead th {\n",
       "        text-align: right;\n",
       "    }\n",
       "</style>\n",
       "<table border=\"1\" class=\"dataframe\">\n",
       "  <thead>\n",
       "    <tr style=\"text-align: right;\">\n",
       "      <th></th>\n",
       "      <th>id</th>\n",
       "      <th>title</th>\n",
       "      <th>handle</th>\n",
       "      <th>body_html</th>\n",
       "      <th>published_at</th>\n",
       "      <th>created_at</th>\n",
       "      <th>updated_at</th>\n",
       "      <th>vendor</th>\n",
       "      <th>product_type</th>\n",
       "      <th>tags</th>\n",
       "      <th>variants</th>\n",
       "      <th>images</th>\n",
       "      <th>options</th>\n",
       "    </tr>\n",
       "  </thead>\n",
       "  <tbody>\n",
       "    <tr>\n",
       "      <th>0</th>\n",
       "      <td>6602849583279</td>\n",
       "      <td>Almond Latte - Cute iPhone 12 Pro Max Case</td>\n",
       "      <td>cute-iphone-12-pro-max-case</td>\n",
       "      <td>&lt;p&gt;Cute cream color as a background for the un...</td>\n",
       "      <td>2021-04-01T12:30:05+03:00</td>\n",
       "      <td>2021-04-01T12:30:12+03:00</td>\n",
       "      <td>2022-03-28T21:51:00+03:00</td>\n",
       "      <td>BURGA</td>\n",
       "      <td>Phone Case</td>\n",
       "      <td>[Beige, design:Almond Latte - Cute, fw19, mode...</td>\n",
       "      <td>[{'id': 39488378667183, 'title': 'Snap', 'opti...</td>\n",
       "      <td>[{'id': 32707649339567, 'created_at': '2022-01...</td>\n",
       "      <td>[{'name': 'Case Type', 'position': 1, 'values'...</td>\n",
       "    </tr>\n",
       "  </tbody>\n",
       "</table>\n",
       "</div>"
      ],
      "text/plain": [
       "              id                                       title  \\\n",
       "0  6602849583279  Almond Latte - Cute iPhone 12 Pro Max Case   \n",
       "\n",
       "                        handle  \\\n",
       "0  cute-iphone-12-pro-max-case   \n",
       "\n",
       "                                           body_html  \\\n",
       "0  <p>Cute cream color as a background for the un...   \n",
       "\n",
       "                published_at                 created_at  \\\n",
       "0  2021-04-01T12:30:05+03:00  2021-04-01T12:30:12+03:00   \n",
       "\n",
       "                  updated_at vendor product_type  \\\n",
       "0  2022-03-28T21:51:00+03:00  BURGA   Phone Case   \n",
       "\n",
       "                                                tags  \\\n",
       "0  [Beige, design:Almond Latte - Cute, fw19, mode...   \n",
       "\n",
       "                                            variants  \\\n",
       "0  [{'id': 39488378667183, 'title': 'Snap', 'opti...   \n",
       "\n",
       "                                              images  \\\n",
       "0  [{'id': 32707649339567, 'created_at': '2022-01...   \n",
       "\n",
       "                                             options  \n",
       "0  [{'name': 'Case Type', 'position': 1, 'values'...  "
      ]
     },
     "execution_count": 53,
     "metadata": {},
     "output_type": "execute_result"
    }
   ],
   "source": [
    "edf[edf['id']==6602849583279]"
   ]
  },
  {
   "cell_type": "markdown",
   "id": "31238291-6fce-425a-85b2-a7c51e67fa94",
   "metadata": {},
   "source": [
    "Ok that's the same row that we have been drawing from. There's a product to variant hierarchy, where every product can have several variants. Let me look for the first variant ID:"
   ]
  },
  {
   "cell_type": "code",
   "execution_count": 23,
   "id": "024b992b-df92-4025-babf-fbf0f4ddb821",
   "metadata": {},
   "outputs": [
    {
     "data": {
      "text/html": [
       "<div>\n",
       "<style scoped>\n",
       "    .dataframe tbody tr th:only-of-type {\n",
       "        vertical-align: middle;\n",
       "    }\n",
       "\n",
       "    .dataframe tbody tr th {\n",
       "        vertical-align: top;\n",
       "    }\n",
       "\n",
       "    .dataframe thead th {\n",
       "        text-align: right;\n",
       "    }\n",
       "</style>\n",
       "<table border=\"1\" class=\"dataframe\">\n",
       "  <thead>\n",
       "    <tr style=\"text-align: right;\">\n",
       "      <th></th>\n",
       "      <th>id</th>\n",
       "      <th>title</th>\n",
       "      <th>handle</th>\n",
       "      <th>body_html</th>\n",
       "      <th>published_at</th>\n",
       "      <th>created_at</th>\n",
       "      <th>updated_at</th>\n",
       "      <th>vendor</th>\n",
       "      <th>product_type</th>\n",
       "      <th>tags</th>\n",
       "      <th>variants</th>\n",
       "      <th>images</th>\n",
       "      <th>options</th>\n",
       "    </tr>\n",
       "  </thead>\n",
       "  <tbody>\n",
       "  </tbody>\n",
       "</table>\n",
       "</div>"
      ],
      "text/plain": [
       "Empty DataFrame\n",
       "Columns: [id, title, handle, body_html, published_at, created_at, updated_at, vendor, product_type, tags, variants, images, options]\n",
       "Index: []"
      ]
     },
     "execution_count": 23,
     "metadata": {},
     "output_type": "execute_result"
    }
   ],
   "source": [
    "edf[edf['id']==39488378667183]"
   ]
  },
  {
   "cell_type": "markdown",
   "id": "ca775861-9d2b-4b90-a5b9-cf68e48b7323",
   "metadata": {},
   "source": [
    "Nothing. Good. Now we know we can explode this to get variant-product combinations. Before we do that, let's look at the last column."
   ]
  },
  {
   "cell_type": "code",
   "execution_count": 24,
   "id": "10cd89ac-479e-4bfa-bd4a-2f6286e2ea58",
   "metadata": {},
   "outputs": [
    {
     "data": {
      "text/plain": [
       "[{'name': 'Case Type',\n",
       "  'position': 1,\n",
       "  'values': ['Snap',\n",
       "   'Tough',\n",
       "   'Elite Dark',\n",
       "   'Tough (MagSafe)',\n",
       "   'Elite Dark (MagSafe)']}]"
      ]
     },
     "execution_count": 24,
     "metadata": {},
     "output_type": "execute_result"
    }
   ],
   "source": [
    "edf.loc[0,'options']"
   ]
  },
  {
   "cell_type": "markdown",
   "id": "b0fe43c5-a31e-4aab-88d4-43d8fd3f3169",
   "metadata": {},
   "source": [
    "This looks like how we can filter through those variants. Basically, this is one-to-one with the title of each variant, and with the option1 type. Let me expand this into a dataframe:"
   ]
  },
  {
   "cell_type": "code",
   "execution_count": 26,
   "id": "8d778a71-598e-4097-9ec1-1f63056888aa",
   "metadata": {},
   "outputs": [
    {
     "data": {
      "text/html": [
       "<div>\n",
       "<style scoped>\n",
       "    .dataframe tbody tr th:only-of-type {\n",
       "        vertical-align: middle;\n",
       "    }\n",
       "\n",
       "    .dataframe tbody tr th {\n",
       "        vertical-align: top;\n",
       "    }\n",
       "\n",
       "    .dataframe thead th {\n",
       "        text-align: right;\n",
       "    }\n",
       "</style>\n",
       "<table border=\"1\" class=\"dataframe\">\n",
       "  <thead>\n",
       "    <tr style=\"text-align: right;\">\n",
       "      <th></th>\n",
       "      <th>id</th>\n",
       "      <th>title</th>\n",
       "      <th>handle</th>\n",
       "      <th>body_html</th>\n",
       "      <th>published_at</th>\n",
       "      <th>created_at</th>\n",
       "      <th>updated_at</th>\n",
       "      <th>vendor</th>\n",
       "      <th>product_type</th>\n",
       "      <th>tags</th>\n",
       "      <th>variants</th>\n",
       "      <th>images</th>\n",
       "      <th>options</th>\n",
       "    </tr>\n",
       "  </thead>\n",
       "  <tbody>\n",
       "    <tr>\n",
       "      <th>0</th>\n",
       "      <td>6939995242671</td>\n",
       "      <td>Almond Latte - Cute iPhone 13 Pro Max Case</td>\n",
       "      <td>cute-iphone-13-pro-max-case</td>\n",
       "      <td>&lt;p&gt;Cute cream color as a background for the un...</td>\n",
       "      <td>2021-09-14T21:39:24+03:00</td>\n",
       "      <td>2021-09-14T21:39:29+03:00</td>\n",
       "      <td>2022-05-12T04:40:48+03:00</td>\n",
       "      <td>BURGA</td>\n",
       "      <td>Phone Case</td>\n",
       "      <td>[Beige, design:Almond Latte - Cute, fw19, mode...</td>\n",
       "      <td>{'id': 40642467987631, 'title': 'Snap', 'optio...</td>\n",
       "      <td>[{'id': 32707641868463, 'created_at': '2022-01...</td>\n",
       "      <td>[{'name': 'Case Type', 'position': 1, 'values'...</td>\n",
       "    </tr>\n",
       "    <tr>\n",
       "      <th>0</th>\n",
       "      <td>6939995242671</td>\n",
       "      <td>Almond Latte - Cute iPhone 13 Pro Max Case</td>\n",
       "      <td>cute-iphone-13-pro-max-case</td>\n",
       "      <td>&lt;p&gt;Cute cream color as a background for the un...</td>\n",
       "      <td>2021-09-14T21:39:24+03:00</td>\n",
       "      <td>2021-09-14T21:39:29+03:00</td>\n",
       "      <td>2022-05-12T04:40:48+03:00</td>\n",
       "      <td>BURGA</td>\n",
       "      <td>Phone Case</td>\n",
       "      <td>[Beige, design:Almond Latte - Cute, fw19, mode...</td>\n",
       "      <td>{'id': 40642468020399, 'title': 'Tough', 'opti...</td>\n",
       "      <td>[{'id': 32707641868463, 'created_at': '2022-01...</td>\n",
       "      <td>[{'name': 'Case Type', 'position': 1, 'values'...</td>\n",
       "    </tr>\n",
       "    <tr>\n",
       "      <th>0</th>\n",
       "      <td>6939995242671</td>\n",
       "      <td>Almond Latte - Cute iPhone 13 Pro Max Case</td>\n",
       "      <td>cute-iphone-13-pro-max-case</td>\n",
       "      <td>&lt;p&gt;Cute cream color as a background for the un...</td>\n",
       "      <td>2021-09-14T21:39:24+03:00</td>\n",
       "      <td>2021-09-14T21:39:29+03:00</td>\n",
       "      <td>2022-05-12T04:40:48+03:00</td>\n",
       "      <td>BURGA</td>\n",
       "      <td>Phone Case</td>\n",
       "      <td>[Beige, design:Almond Latte - Cute, fw19, mode...</td>\n",
       "      <td>{'id': 41227336450223, 'title': 'Elite Dark', ...</td>\n",
       "      <td>[{'id': 32707641868463, 'created_at': '2022-01...</td>\n",
       "      <td>[{'name': 'Case Type', 'position': 1, 'values'...</td>\n",
       "    </tr>\n",
       "    <tr>\n",
       "      <th>0</th>\n",
       "      <td>6939995242671</td>\n",
       "      <td>Almond Latte - Cute iPhone 13 Pro Max Case</td>\n",
       "      <td>cute-iphone-13-pro-max-case</td>\n",
       "      <td>&lt;p&gt;Cute cream color as a background for the un...</td>\n",
       "      <td>2021-09-14T21:39:24+03:00</td>\n",
       "      <td>2021-09-14T21:39:29+03:00</td>\n",
       "      <td>2022-05-12T04:40:48+03:00</td>\n",
       "      <td>BURGA</td>\n",
       "      <td>Phone Case</td>\n",
       "      <td>[Beige, design:Almond Latte - Cute, fw19, mode...</td>\n",
       "      <td>{'id': 41551436251311, 'title': 'Tough (MagSaf...</td>\n",
       "      <td>[{'id': 32707641868463, 'created_at': '2022-01...</td>\n",
       "      <td>[{'name': 'Case Type', 'position': 1, 'values'...</td>\n",
       "    </tr>\n",
       "    <tr>\n",
       "      <th>0</th>\n",
       "      <td>6939995242671</td>\n",
       "      <td>Almond Latte - Cute iPhone 13 Pro Max Case</td>\n",
       "      <td>cute-iphone-13-pro-max-case</td>\n",
       "      <td>&lt;p&gt;Cute cream color as a background for the un...</td>\n",
       "      <td>2021-09-14T21:39:24+03:00</td>\n",
       "      <td>2021-09-14T21:39:29+03:00</td>\n",
       "      <td>2022-05-12T04:40:48+03:00</td>\n",
       "      <td>BURGA</td>\n",
       "      <td>Phone Case</td>\n",
       "      <td>[Beige, design:Almond Latte - Cute, fw19, mode...</td>\n",
       "      <td>{'id': 41551436284079, 'title': 'Elite Dark (M...</td>\n",
       "      <td>[{'id': 32707641868463, 'created_at': '2022-01...</td>\n",
       "      <td>[{'name': 'Case Type', 'position': 1, 'values'...</td>\n",
       "    </tr>\n",
       "  </tbody>\n",
       "</table>\n",
       "</div>"
      ],
      "text/plain": [
       "              id                                       title  \\\n",
       "0  6939995242671  Almond Latte - Cute iPhone 13 Pro Max Case   \n",
       "0  6939995242671  Almond Latte - Cute iPhone 13 Pro Max Case   \n",
       "0  6939995242671  Almond Latte - Cute iPhone 13 Pro Max Case   \n",
       "0  6939995242671  Almond Latte - Cute iPhone 13 Pro Max Case   \n",
       "0  6939995242671  Almond Latte - Cute iPhone 13 Pro Max Case   \n",
       "\n",
       "                        handle  \\\n",
       "0  cute-iphone-13-pro-max-case   \n",
       "0  cute-iphone-13-pro-max-case   \n",
       "0  cute-iphone-13-pro-max-case   \n",
       "0  cute-iphone-13-pro-max-case   \n",
       "0  cute-iphone-13-pro-max-case   \n",
       "\n",
       "                                           body_html  \\\n",
       "0  <p>Cute cream color as a background for the un...   \n",
       "0  <p>Cute cream color as a background for the un...   \n",
       "0  <p>Cute cream color as a background for the un...   \n",
       "0  <p>Cute cream color as a background for the un...   \n",
       "0  <p>Cute cream color as a background for the un...   \n",
       "\n",
       "                published_at                 created_at  \\\n",
       "0  2021-09-14T21:39:24+03:00  2021-09-14T21:39:29+03:00   \n",
       "0  2021-09-14T21:39:24+03:00  2021-09-14T21:39:29+03:00   \n",
       "0  2021-09-14T21:39:24+03:00  2021-09-14T21:39:29+03:00   \n",
       "0  2021-09-14T21:39:24+03:00  2021-09-14T21:39:29+03:00   \n",
       "0  2021-09-14T21:39:24+03:00  2021-09-14T21:39:29+03:00   \n",
       "\n",
       "                  updated_at vendor product_type  \\\n",
       "0  2022-05-12T04:40:48+03:00  BURGA   Phone Case   \n",
       "0  2022-05-12T04:40:48+03:00  BURGA   Phone Case   \n",
       "0  2022-05-12T04:40:48+03:00  BURGA   Phone Case   \n",
       "0  2022-05-12T04:40:48+03:00  BURGA   Phone Case   \n",
       "0  2022-05-12T04:40:48+03:00  BURGA   Phone Case   \n",
       "\n",
       "                                                tags  \\\n",
       "0  [Beige, design:Almond Latte - Cute, fw19, mode...   \n",
       "0  [Beige, design:Almond Latte - Cute, fw19, mode...   \n",
       "0  [Beige, design:Almond Latte - Cute, fw19, mode...   \n",
       "0  [Beige, design:Almond Latte - Cute, fw19, mode...   \n",
       "0  [Beige, design:Almond Latte - Cute, fw19, mode...   \n",
       "\n",
       "                                            variants  \\\n",
       "0  {'id': 40642467987631, 'title': 'Snap', 'optio...   \n",
       "0  {'id': 40642468020399, 'title': 'Tough', 'opti...   \n",
       "0  {'id': 41227336450223, 'title': 'Elite Dark', ...   \n",
       "0  {'id': 41551436251311, 'title': 'Tough (MagSaf...   \n",
       "0  {'id': 41551436284079, 'title': 'Elite Dark (M...   \n",
       "\n",
       "                                              images  \\\n",
       "0  [{'id': 32707641868463, 'created_at': '2022-01...   \n",
       "0  [{'id': 32707641868463, 'created_at': '2022-01...   \n",
       "0  [{'id': 32707641868463, 'created_at': '2022-01...   \n",
       "0  [{'id': 32707641868463, 'created_at': '2022-01...   \n",
       "0  [{'id': 32707641868463, 'created_at': '2022-01...   \n",
       "\n",
       "                                             options  \n",
       "0  [{'name': 'Case Type', 'position': 1, 'values'...  \n",
       "0  [{'name': 'Case Type', 'position': 1, 'values'...  \n",
       "0  [{'name': 'Case Type', 'position': 1, 'values'...  \n",
       "0  [{'name': 'Case Type', 'position': 1, 'values'...  \n",
       "0  [{'name': 'Case Type', 'position': 1, 'values'...  "
      ]
     },
     "execution_count": 26,
     "metadata": {},
     "output_type": "execute_result"
    }
   ],
   "source": [
    "edf.explode('variants').head()"
   ]
  },
  {
   "cell_type": "markdown",
   "id": "63d92443-9649-4f53-b634-79ad6cca4d02",
   "metadata": {},
   "source": [
    "We get five times as many rows, which suggests that we now have all the variant pairs. Now we need to expand all the json stuff."
   ]
  },
  {
   "cell_type": "code",
   "execution_count": 44,
   "id": "a1c0995d-519c-4561-aeec-4e838d74ab4e",
   "metadata": {},
   "outputs": [
    {
     "data": {
      "text/html": [
       "<div>\n",
       "<style scoped>\n",
       "    .dataframe tbody tr th:only-of-type {\n",
       "        vertical-align: middle;\n",
       "    }\n",
       "\n",
       "    .dataframe tbody tr th {\n",
       "        vertical-align: top;\n",
       "    }\n",
       "\n",
       "    .dataframe thead th {\n",
       "        text-align: right;\n",
       "    }\n",
       "</style>\n",
       "<table border=\"1\" class=\"dataframe\">\n",
       "  <thead>\n",
       "    <tr style=\"text-align: right;\">\n",
       "      <th></th>\n",
       "      <th>id</th>\n",
       "      <th>title</th>\n",
       "      <th>option1</th>\n",
       "      <th>option2</th>\n",
       "      <th>option3</th>\n",
       "      <th>sku</th>\n",
       "      <th>requires_shipping</th>\n",
       "      <th>taxable</th>\n",
       "      <th>featured_image</th>\n",
       "      <th>available</th>\n",
       "      <th>price</th>\n",
       "      <th>grams</th>\n",
       "      <th>compare_at_price</th>\n",
       "      <th>position</th>\n",
       "      <th>product_id</th>\n",
       "      <th>created_at</th>\n",
       "      <th>updated_at</th>\n",
       "    </tr>\n",
       "  </thead>\n",
       "  <tbody>\n",
       "    <tr>\n",
       "      <th>0</th>\n",
       "      <td>40642467987631</td>\n",
       "      <td>Snap</td>\n",
       "      <td>Snap</td>\n",
       "      <td>None</td>\n",
       "      <td>None</td>\n",
       "      <td>FA_01_IP13PROMAX_SP</td>\n",
       "      <td>True</td>\n",
       "      <td>True</td>\n",
       "      <td>{'id': 32707641868463, 'product_id': 693999524...</td>\n",
       "      <td>True</td>\n",
       "      <td>29.95</td>\n",
       "      <td>29</td>\n",
       "      <td>None</td>\n",
       "      <td>1</td>\n",
       "      <td>6939995242671</td>\n",
       "      <td>2021-09-14T21:39:29+03:00</td>\n",
       "      <td>2022-05-11T16:12:25+03:00</td>\n",
       "    </tr>\n",
       "    <tr>\n",
       "      <th>1</th>\n",
       "      <td>40642468020399</td>\n",
       "      <td>Tough</td>\n",
       "      <td>Tough</td>\n",
       "      <td>None</td>\n",
       "      <td>None</td>\n",
       "      <td>FA_01_IP13PROMAX_TH</td>\n",
       "      <td>True</td>\n",
       "      <td>True</td>\n",
       "      <td>{'id': 32707642032303, 'product_id': 693999524...</td>\n",
       "      <td>True</td>\n",
       "      <td>44.95</td>\n",
       "      <td>39</td>\n",
       "      <td>None</td>\n",
       "      <td>2</td>\n",
       "      <td>6939995242671</td>\n",
       "      <td>2021-09-14T21:39:29+03:00</td>\n",
       "      <td>2022-05-12T04:36:45+03:00</td>\n",
       "    </tr>\n",
       "    <tr>\n",
       "      <th>2</th>\n",
       "      <td>41227336450223</td>\n",
       "      <td>Elite Dark</td>\n",
       "      <td>Elite Dark</td>\n",
       "      <td>None</td>\n",
       "      <td>None</td>\n",
       "      <td>FA_01EL_IP13PROMAX_EL-dark</td>\n",
       "      <td>True</td>\n",
       "      <td>True</td>\n",
       "      <td>{'id': 32707642196143, 'product_id': 693999524...</td>\n",
       "      <td>True</td>\n",
       "      <td>79.95</td>\n",
       "      <td>45</td>\n",
       "      <td>None</td>\n",
       "      <td>3</td>\n",
       "      <td>6939995242671</td>\n",
       "      <td>2022-01-24T23:52:35+02:00</td>\n",
       "      <td>2022-05-11T15:39:50+03:00</td>\n",
       "    </tr>\n",
       "    <tr>\n",
       "      <th>3</th>\n",
       "      <td>41551436251311</td>\n",
       "      <td>Tough (MagSafe)</td>\n",
       "      <td>Tough (MagSafe)</td>\n",
       "      <td>None</td>\n",
       "      <td>None</td>\n",
       "      <td>FA_01_IP13PROMAX_TH-magsafe</td>\n",
       "      <td>True</td>\n",
       "      <td>True</td>\n",
       "      <td>{'id': 32707642032303, 'product_id': 693999524...</td>\n",
       "      <td>True</td>\n",
       "      <td>49.90</td>\n",
       "      <td>49</td>\n",
       "      <td>None</td>\n",
       "      <td>4</td>\n",
       "      <td>6939995242671</td>\n",
       "      <td>2022-04-25T17:08:52+03:00</td>\n",
       "      <td>2022-05-11T10:20:07+03:00</td>\n",
       "    </tr>\n",
       "    <tr>\n",
       "      <th>4</th>\n",
       "      <td>41551436284079</td>\n",
       "      <td>Elite Dark (MagSafe)</td>\n",
       "      <td>Elite Dark (MagSafe)</td>\n",
       "      <td>None</td>\n",
       "      <td>None</td>\n",
       "      <td>FA_01EL_IP13PROMAX_EL-dark-magsafe</td>\n",
       "      <td>True</td>\n",
       "      <td>True</td>\n",
       "      <td>{'id': 32707642196143, 'product_id': 693999524...</td>\n",
       "      <td>True</td>\n",
       "      <td>84.90</td>\n",
       "      <td>55</td>\n",
       "      <td>None</td>\n",
       "      <td>5</td>\n",
       "      <td>6939995242671</td>\n",
       "      <td>2022-04-25T17:08:52+03:00</td>\n",
       "      <td>2022-05-01T15:15:41+03:00</td>\n",
       "    </tr>\n",
       "  </tbody>\n",
       "</table>\n",
       "</div>"
      ],
      "text/plain": [
       "               id                 title               option1 option2 option3  \\\n",
       "0  40642467987631                  Snap                  Snap    None    None   \n",
       "1  40642468020399                 Tough                 Tough    None    None   \n",
       "2  41227336450223            Elite Dark            Elite Dark    None    None   \n",
       "3  41551436251311       Tough (MagSafe)       Tough (MagSafe)    None    None   \n",
       "4  41551436284079  Elite Dark (MagSafe)  Elite Dark (MagSafe)    None    None   \n",
       "\n",
       "                                  sku  requires_shipping  taxable  \\\n",
       "0                 FA_01_IP13PROMAX_SP               True     True   \n",
       "1                 FA_01_IP13PROMAX_TH               True     True   \n",
       "2          FA_01EL_IP13PROMAX_EL-dark               True     True   \n",
       "3         FA_01_IP13PROMAX_TH-magsafe               True     True   \n",
       "4  FA_01EL_IP13PROMAX_EL-dark-magsafe               True     True   \n",
       "\n",
       "                                      featured_image  available  price  grams  \\\n",
       "0  {'id': 32707641868463, 'product_id': 693999524...       True  29.95     29   \n",
       "1  {'id': 32707642032303, 'product_id': 693999524...       True  44.95     39   \n",
       "2  {'id': 32707642196143, 'product_id': 693999524...       True  79.95     45   \n",
       "3  {'id': 32707642032303, 'product_id': 693999524...       True  49.90     49   \n",
       "4  {'id': 32707642196143, 'product_id': 693999524...       True  84.90     55   \n",
       "\n",
       "  compare_at_price  position     product_id                 created_at  \\\n",
       "0             None         1  6939995242671  2021-09-14T21:39:29+03:00   \n",
       "1             None         2  6939995242671  2021-09-14T21:39:29+03:00   \n",
       "2             None         3  6939995242671  2022-01-24T23:52:35+02:00   \n",
       "3             None         4  6939995242671  2022-04-25T17:08:52+03:00   \n",
       "4             None         5  6939995242671  2022-04-25T17:08:52+03:00   \n",
       "\n",
       "                  updated_at  \n",
       "0  2022-05-11T16:12:25+03:00  \n",
       "1  2022-05-12T04:36:45+03:00  \n",
       "2  2022-05-11T15:39:50+03:00  \n",
       "3  2022-05-11T10:20:07+03:00  \n",
       "4  2022-05-01T15:15:41+03:00  "
      ]
     },
     "execution_count": 44,
     "metadata": {},
     "output_type": "execute_result"
    }
   ],
   "source": [
    "t = edf.explode('variants').reset_index()\n",
    "\n",
    "t.columns\n",
    "\n",
    "vdf = t['variants'].apply(pd.Series)\n",
    "vdf.head()"
   ]
  },
  {
   "cell_type": "code",
   "execution_count": 45,
   "id": "95f42974-1e15-4127-9f80-22aa8709d4e4",
   "metadata": {},
   "outputs": [],
   "source": [
    "edfx = pd.merge(edf,vdf.rename({'id':'variant_id'}),left_on='id',right_on='product_id')"
   ]
  },
  {
   "cell_type": "code",
   "execution_count": 46,
   "id": "0b509b12-ef07-413d-8c2f-2108841472ea",
   "metadata": {},
   "outputs": [
    {
     "data": {
      "text/plain": [
       "Index(['id_x', 'title_x', 'handle', 'body_html', 'published_at',\n",
       "       'created_at_x', 'updated_at_x', 'vendor', 'product_type', 'tags',\n",
       "       'variants', 'images', 'options', 'id_y', 'title_y', 'option1',\n",
       "       'option2', 'option3', 'sku', 'requires_shipping', 'taxable',\n",
       "       'featured_image', 'available', 'price', 'grams', 'compare_at_price',\n",
       "       'position', 'product_id', 'created_at_y', 'updated_at_y'],\n",
       "      dtype='object')"
      ]
     },
     "execution_count": 46,
     "metadata": {},
     "output_type": "execute_result"
    }
   ],
   "source": [
    "edfx.columns"
   ]
  },
  {
   "cell_type": "markdown",
   "id": "28e26fc0-e0d1-4384-838e-de1d592d9af8",
   "metadata": {},
   "source": [
    "Now I've got a dataset with all the product/variant pairs. Each variant has the price, availability, and and a picture. I could literally recreate the cosmetics of a shopify store if I wanted to. But more importantly, I can write all of this into a script and not have to do it manually.\n",
    "\n",
    "I'm leaving the rest of the notebook here for you to look at the process. It's very raw, because I was still tinkering with how to pull and structure the data. I wanted to create methods that would, in one fell swoop, get all the products from a website and generate filters for it. That way I could create a database that I could query for the entire store.\n",
    "\n",
    "I stopped working on it because I decided at some point that I like the idea enough to use it (maybe even pay for it) or maybe invest in it, but not enough to spend a significant part of my life building it. But either way it was a fun exercise."
   ]
  },
  {
   "cell_type": "markdown",
   "id": "18db45c8-7fd3-41e3-bfe0-25d4bcf52d2e",
   "metadata": {},
   "source": [
    "## Tinkering (unfinished)"
   ]
  },
  {
   "cell_type": "markdown",
   "id": "942d1110-53cd-45a4-bc09-e36dc974bd53",
   "metadata": {},
   "source": [
    "Next steps\n",
    "- Create a way to understand the structure of the data and search capabilities\n",
    "- try to recreate it for another site\n",
    "- try to create a generic one\n",
    "- test how it cuts across similar sites (like merch sites)"
   ]
  },
  {
   "cell_type": "code",
   "execution_count": 48,
   "id": "cdbd8878-dea2-4a56-a89f-e860ec53a62f",
   "metadata": {},
   "outputs": [
    {
     "data": {
      "text/plain": [
       "array(['Phone Case'], dtype=object)"
      ]
     },
     "execution_count": 48,
     "metadata": {},
     "output_type": "execute_result"
    }
   ],
   "source": [
    "edfx['product_type'].unique()"
   ]
  },
  {
   "cell_type": "code",
   "execution_count": 49,
   "id": "17046803-7330-41b8-8823-a3fa6de0ac6d",
   "metadata": {},
   "outputs": [
    {
     "data": {
      "text/html": [
       "<div>\n",
       "<style scoped>\n",
       "    .dataframe tbody tr th:only-of-type {\n",
       "        vertical-align: middle;\n",
       "    }\n",
       "\n",
       "    .dataframe tbody tr th {\n",
       "        vertical-align: top;\n",
       "    }\n",
       "\n",
       "    .dataframe thead th {\n",
       "        text-align: right;\n",
       "    }\n",
       "</style>\n",
       "<table border=\"1\" class=\"dataframe\">\n",
       "  <thead>\n",
       "    <tr style=\"text-align: right;\">\n",
       "      <th></th>\n",
       "      <th>id</th>\n",
       "      <th>title</th>\n",
       "      <th>handle</th>\n",
       "      <th>description</th>\n",
       "      <th>published_at</th>\n",
       "      <th>updated_at</th>\n",
       "      <th>image</th>\n",
       "      <th>products_count</th>\n",
       "    </tr>\n",
       "  </thead>\n",
       "  <tbody>\n",
       "    <tr>\n",
       "      <th>0</th>\n",
       "      <td>282440958127</td>\n",
       "      <td>Accessories</td>\n",
       "      <td>accessories</td>\n",
       "      <td></td>\n",
       "      <td>2021-12-15T21:11:52+02:00</td>\n",
       "      <td>2022-05-12T17:50:49+03:00</td>\n",
       "      <td>None</td>\n",
       "      <td>13</td>\n",
       "    </tr>\n",
       "    <tr>\n",
       "      <th>1</th>\n",
       "      <td>268083626159</td>\n",
       "      <td>Airpod Max Cases</td>\n",
       "      <td>airpod-max-cases</td>\n",
       "      <td>&lt;p&gt;The AirPods Max headphones shook the world....</td>\n",
       "      <td>2021-05-24T17:40:24+03:00</td>\n",
       "      <td>2022-05-11T23:45:37+03:00</td>\n",
       "      <td>None</td>\n",
       "      <td>140</td>\n",
       "    </tr>\n",
       "    <tr>\n",
       "      <th>2</th>\n",
       "      <td>266627645615</td>\n",
       "      <td>Airpod Types</td>\n",
       "      <td>airpod-types</td>\n",
       "      <td></td>\n",
       "      <td>2021-05-10T17:50:58+03:00</td>\n",
       "      <td>2022-05-08T15:40:12+03:00</td>\n",
       "      <td>None</td>\n",
       "      <td>4</td>\n",
       "    </tr>\n",
       "    <tr>\n",
       "      <th>3</th>\n",
       "      <td>280987467951</td>\n",
       "      <td>AirPods 3 Cases</td>\n",
       "      <td>airpods-3-cases</td>\n",
       "      <td>&lt;p&gt;Your AirPods 3 need some love, too! Choose ...</td>\n",
       "      <td>2021-10-25T19:53:16+03:00</td>\n",
       "      <td>2022-05-12T16:05:35+03:00</td>\n",
       "      <td>None</td>\n",
       "      <td>143</td>\n",
       "    </tr>\n",
       "    <tr>\n",
       "      <th>4</th>\n",
       "      <td>266500440239</td>\n",
       "      <td>AirPods Cases</td>\n",
       "      <td>airpod-cases</td>\n",
       "      <td>&lt;p&gt;Revive your AirPods with a fresh new look. ...</td>\n",
       "      <td>2021-05-08T16:30:49+03:00</td>\n",
       "      <td>2022-05-12T12:50:47+03:00</td>\n",
       "      <td>None</td>\n",
       "      <td>149</td>\n",
       "    </tr>\n",
       "  </tbody>\n",
       "</table>\n",
       "</div>"
      ],
      "text/plain": [
       "             id             title            handle  \\\n",
       "0  282440958127       Accessories       accessories   \n",
       "1  268083626159  Airpod Max Cases  airpod-max-cases   \n",
       "2  266627645615      Airpod Types      airpod-types   \n",
       "3  280987467951   AirPods 3 Cases   airpods-3-cases   \n",
       "4  266500440239     AirPods Cases      airpod-cases   \n",
       "\n",
       "                                         description  \\\n",
       "0                                                      \n",
       "1  <p>The AirPods Max headphones shook the world....   \n",
       "2                                                      \n",
       "3  <p>Your AirPods 3 need some love, too! Choose ...   \n",
       "4  <p>Revive your AirPods with a fresh new look. ...   \n",
       "\n",
       "                published_at                 updated_at image  products_count  \n",
       "0  2021-12-15T21:11:52+02:00  2022-05-12T17:50:49+03:00  None              13  \n",
       "1  2021-05-24T17:40:24+03:00  2022-05-11T23:45:37+03:00  None             140  \n",
       "2  2021-05-10T17:50:58+03:00  2022-05-08T15:40:12+03:00  None               4  \n",
       "3  2021-10-25T19:53:16+03:00  2022-05-12T16:05:35+03:00  None             143  \n",
       "4  2021-05-08T16:30:49+03:00  2022-05-12T12:50:47+03:00  None             149  "
      ]
     },
     "execution_count": 49,
     "metadata": {},
     "output_type": "execute_result"
    }
   ],
   "source": [
    "cdf.head()"
   ]
  },
  {
   "cell_type": "code",
   "execution_count": 50,
   "id": "5df8da8b-8f3c-4137-94fa-83c8ba24a848",
   "metadata": {},
   "outputs": [],
   "source": [
    "def get_collection_products(base_url,collection):\n",
    "    \n",
    "    url = base_url+'/collections/{0}/products.json'.format(collection['handle'])\n",
    "    e = requests.get(url,params={'limit':collection['products_count']})\n",
    "    \n",
    "    pdf = pd.DataFrame(e.json()['products'])\n",
    "    return pdf"
   ]
  },
  {
   "cell_type": "code",
   "execution_count": 51,
   "id": "df4c0cd3-e218-4d08-881a-bb0dfcf89df1",
   "metadata": {},
   "outputs": [],
   "source": [
    "def explode_variants(product_df):\n",
    "    t = product_df.explode('variants').reset_index()\n",
    "    pdfx = pd.merge(product_df,t['variants'].apply(pd.Series).rename(columns={'id':'variant_id'}),\n",
    "                    left_on='id',\n",
    "                    right_on='product_id',\n",
    "                   suffixes=('_prod','_variant'))\n",
    "    return pdfx"
   ]
  },
  {
   "cell_type": "code",
   "execution_count": 52,
   "id": "263517fa-15bb-4d3d-8478-9be5b1cfe133",
   "metadata": {},
   "outputs": [],
   "source": [
    "def get_all_collection_variants(base_url):\n",
    "    \n",
    "    collections =  requests.get(base_url + '/collections.json')\n",
    "    \n",
    "    df_out = pd.DataFrame()\n",
    "    \n",
    "    for c in collections.json()['collections']:\n",
    "        products = get_collection_products(base_url,c)\n",
    "        if products.shape == (0,0):\n",
    "            continue\n",
    "        \n",
    "        try:\n",
    "            pdfx = explode_variants(products)\n",
    "        except KeyError:\n",
    "            print(c['handle'])\n",
    "            continue\n",
    "\n",
    "        df_out = df_out.append(pdfx)\n",
    "        \n",
    "    return df_out"
   ]
  },
  {
   "cell_type": "code",
   "execution_count": 53,
   "id": "a985bbd4-f9ba-4b6f-a4d4-828f722a12a5",
   "metadata": {},
   "outputs": [],
   "source": [
    "df = get_all_collection_variants('https://www.burga.com')"
   ]
  },
  {
   "cell_type": "markdown",
   "id": "a2c390bc-6602-49d0-a909-35b938dc3864",
   "metadata": {},
   "source": [
    "Next step:\n",
    "- find a way to get all the different variant information out of a product collection. So want to get possible filters"
   ]
  },
  {
   "cell_type": "markdown",
   "id": "8046b8f6-a652-4343-bdd1-3d4415b4372a",
   "metadata": {},
   "source": [
    "Product type is probably an easy one:"
   ]
  },
  {
   "cell_type": "code",
   "execution_count": 123,
   "id": "f37fdd8e-ce6e-4c46-b968-e1d9bfab3577",
   "metadata": {},
   "outputs": [
    {
     "data": {
      "text/plain": [
       "array(['Airtag Case', 'wireless charger', 'Ring Light', 'Phone Charm',\n",
       "       'Eyewear Chain', 'AirPods Case', 'Phone Case', 'screenprotector',\n",
       "       'Ring Holder', 'macbook', 'Cable', 'Camera Lens Protector',\n",
       "       'Card Holder', 'Water Bottle', 'Passport Holder', 'Straws',\n",
       "       'Power Bank', 'Travel Mug', 'Watch Protector', 'iPad Case',\n",
       "       'Leather Apple Watch Band', 'Metal Mesh Apple Watch Band',\n",
       "       'Wall Charger'], dtype=object)"
      ]
     },
     "execution_count": 123,
     "metadata": {},
     "output_type": "execute_result"
    }
   ],
   "source": [
    "df['product_type'].unique()"
   ]
  },
  {
   "cell_type": "code",
   "execution_count": 131,
   "id": "d26aafe7-15b2-4b29-b5c3-a8d594d741e5",
   "metadata": {},
   "outputs": [],
   "source": [
    "filter_cols = []\n",
    "filter_cols += ['product_type']\n",
    "filter_cols += ['available']\n",
    "filter_cols += ['requires_shipping']"
   ]
  },
  {
   "cell_type": "code",
   "execution_count": 129,
   "id": "17009721-496d-417e-83bc-8373fa4991f5",
   "metadata": {},
   "outputs": [
    {
     "data": {
      "text/plain": [
       "array([ True, False])"
      ]
     },
     "execution_count": 129,
     "metadata": {},
     "output_type": "execute_result"
    }
   ],
   "source": [
    "df['available'].unique()"
   ]
  },
  {
   "cell_type": "code",
   "execution_count": 247,
   "id": "71773e52-bdd6-40f1-bf90-ca9724c23358",
   "metadata": {},
   "outputs": [
    {
     "data": {
      "text/plain": [
       "'https://www.burga.com/collections/airpod-cases/products.json?limit=143'"
      ]
     },
     "execution_count": 247,
     "metadata": {},
     "output_type": "execute_result"
    }
   ],
   "source": [
    "products.url"
   ]
  },
  {
   "cell_type": "code",
   "execution_count": 149,
   "id": "73f1799e-931e-41c7-8f29-54387fea84bb",
   "metadata": {},
   "outputs": [
    {
     "data": {
      "text/plain": [
       "Index(['id', 'title_prod', 'handle', 'body_html', 'published_at',\n",
       "       'created_at_prod', 'updated_at_prod', 'vendor', 'product_type', 'tags',\n",
       "       'variants', 'images', 'options', 'variant_id', 'title_variant',\n",
       "       'option1', 'option2', 'option3', 'sku', 'requires_shipping', 'taxable',\n",
       "       'featured_image', 'available', 'price', 'grams', 'compare_at_price',\n",
       "       'position', 'product_id', 'created_at_variant', 'updated_at_variant'],\n",
       "      dtype='object')"
      ]
     },
     "execution_count": 149,
     "metadata": {},
     "output_type": "execute_result"
    }
   ],
   "source": [
    "df.columns"
   ]
  },
  {
   "cell_type": "code",
   "execution_count": 132,
   "id": "25c280df-9318-4e16-8689-2a7f39941b9b",
   "metadata": {},
   "outputs": [],
   "source": [
    "filter_cols += ['created_at_y','updated_at_y']"
   ]
  },
  {
   "cell_type": "code",
   "execution_count": null,
   "id": "cc3d1b92-cb3e-4976-b875-08f660104a61",
   "metadata": {},
   "outputs": [],
   "source": [
    "filter_cols += ['options']"
   ]
  },
  {
   "cell_type": "markdown",
   "id": "8f5cc31e-b713-4554-9e04-e3228d5801bd",
   "metadata": {},
   "source": [
    "Note that the options column has different kinds of data. It's a json with the different options that a variant could have. These would probably need to be exploded into different options for each product type.\n",
    "\n",
    "So a structure might look like this\n",
    "\n",
    "- for each store\n",
    "    - options\n",
    "    - for each collection\n",
    "        - collection options\n",
    "        - for each product\n",
    "            - product options\n",
    "            - variants\n",
    "                - variant options"
   ]
  },
  {
   "cell_type": "code",
   "execution_count": 223,
   "id": "652a9839-4f53-49fb-b6ce-ae25656ca9f7",
   "metadata": {},
   "outputs": [],
   "source": [
    "def get_shopify_shop_structure(base_url,collection_limit=30):\n",
    "    collections = requests.get(base_url+'/collections.json',params={'limit':collection_limit}).json()['collections']\n",
    "    counter = 0\n",
    "    \n",
    "    base_collection_info = ['title',\n",
    "                              'handle',\n",
    "                           'description',\n",
    "                           'published_at',\n",
    "                           'updated_at',\n",
    "                           'image',\n",
    "                           'products_count']\n",
    "    \n",
    "    product_types = dict() #has dict of product types for each collection\n",
    "    product_type_options = dict() #has options for each product type\n",
    "    product_type_options_values = dict() #has possible values for products\n",
    "    products = []\n",
    "    \n",
    "\n",
    "    #for each collection\n",
    "    for c in collections:\n",
    "        if c['products_count']==0:\n",
    "            continue\n",
    "        try:\n",
    "            c_products = requests.get('{0}/collections/{1}/products.json'.format(base_url,c['handle']),\n",
    "                                      params={'limit':c['products_count']}).json()['products']\n",
    "        except:\n",
    "            print('{0}/{1}/products.json'.format(base_url,c['handle']))\n",
    "        product_types[c['handle']] = set()\n",
    "        \n",
    "        for product in c_products:\n",
    "            options = product['options']\n",
    "            product_types[c['handle']].add(product['product_type'])\n",
    "\n",
    "            if product['product_type'] not in product_types: #add new product type\n",
    "                product_type_options[product['product_type']] = options #add options\n",
    "            \n",
    "            else:\n",
    "                product_type_options[product['product_type']].add(options)\n",
    "\n",
    "            for option in options:\n",
    "                if option['name'] in product_type_options_values.keys():\n",
    "                    product_type_options_values[option['name']].update(option['values'])\n",
    "                else:\n",
    "                    product_type_options_values[option['name']] = set(option['values'])\n",
    "\n",
    "        \n",
    "        #for each product\n",
    "            # add product type to collections list if not there\n",
    "            # add product type to master list for this website\n",
    "            # add options to product types dict, if options not already listed there\n",
    "            # for product type options, add possible values if not already included\n",
    "    \n",
    "    return collections,products, product_types, product_type_options, product_type_options_values"
   ]
  },
  {
   "cell_type": "code",
   "execution_count": 224,
   "id": "fe42d63f-efef-4235-8b07-9c3c55114687",
   "metadata": {},
   "outputs": [],
   "source": [
    "burga = get_shopify_shop_structure('https://burga.com')"
   ]
  },
  {
   "cell_type": "code",
   "execution_count": 159,
   "id": "fd6c12ad-2af0-4efb-a1b1-a5b0292f540c",
   "metadata": {},
   "outputs": [],
   "source": [
    "c2 = collections.json()['collections'][4]"
   ]
  },
  {
   "cell_type": "code",
   "execution_count": 173,
   "id": "011069cf-9769-44a0-a7df-740d7aaff6ba",
   "metadata": {},
   "outputs": [],
   "source": [
    "products = requests.get('{0}/collections/{1}/products.json'.format('https://www.burga.com',c2['handle']),params={'limit':c2['products_count']})"
   ]
  },
  {
   "cell_type": "code",
   "execution_count": 179,
   "id": "d0b22464-3d91-445c-9eaf-d5bce4e5ee67",
   "metadata": {},
   "outputs": [],
   "source": [
    "ptypes = set([p['product_type'] for p in products.json()['products']])"
   ]
  },
  {
   "cell_type": "code",
   "execution_count": 195,
   "id": "21cf1e61-75f0-4c94-b197-20d99b880da0",
   "metadata": {},
   "outputs": [
    {
     "data": {
      "text/plain": [
       "[{'name': 'Model', 'position': 1, 'values': ['Airpod']}]"
      ]
     },
     "execution_count": 195,
     "metadata": {},
     "output_type": "execute_result"
    }
   ],
   "source": [
    "products.json()['products'][0]['options']"
   ]
  },
  {
   "cell_type": "code",
   "execution_count": 232,
   "id": "207b5aea-783e-4f06-8c49-e7eecd998ca8",
   "metadata": {},
   "outputs": [],
   "source": [
    "bcoll = burga[0]\n",
    "btypes = burga[1]\n",
    "bptypes = burga[2]\n",
    "bpto = burga[3]\n",
    "bptov = burga[4]"
   ]
  },
  {
   "cell_type": "code",
   "execution_count": 237,
   "id": "60eb1df8-d76b-4be1-9dc4-002abd089ce0",
   "metadata": {},
   "outputs": [
    {
     "data": {
      "text/plain": [
       "dict_keys(['Color', 'Size', 'Model', 'Case Type', 'Quantity', 'Type', 'Plug Type'])"
      ]
     },
     "execution_count": 237,
     "metadata": {},
     "output_type": "execute_result"
    }
   ],
   "source": [
    "bptov.keys()"
   ]
  },
  {
   "cell_type": "code",
   "execution_count": 245,
   "id": "4b145b0b-16a0-4f5f-8d6e-a90a0fc40b85",
   "metadata": {},
   "outputs": [
    {
     "data": {
      "text/plain": [
       "{'Color': {'Almond Latte',\n",
       "  'Assorted Dreams',\n",
       "  'Auriel',\n",
       "  'Baby Blue',\n",
       "  'Black',\n",
       "  'Blue',\n",
       "  'Cream',\n",
       "  'Emerald Pool',\n",
       "  'Gold',\n",
       "  'Gun Metal',\n",
       "  'Ivory',\n",
       "  'Ivy',\n",
       "  'Jin',\n",
       "  'Lavender',\n",
       "  'Pink',\n",
       "  'Pink Sunrise',\n",
       "  'Positive Vibes',\n",
       "  'Rainbow Splash',\n",
       "  'Red',\n",
       "  'Rose Gold',\n",
       "  'Rosé',\n",
       "  'Santorini',\n",
       "  'Sienna',\n",
       "  'Silver',\n",
       "  'Snow Cone',\n",
       "  'Transparent'},\n",
       " 'Size': {'16oz/470ml',\n",
       "  '17oz/500ml',\n",
       "  '38mm / 40 mm',\n",
       "  '38mm / 40 mm / 41 mm',\n",
       "  '38mm / 40mm / 41mm',\n",
       "  '42mm / 44mm',\n",
       "  '42mm / 44mm / 45 mm',\n",
       "  '42mm / 44mm / 45mm',\n",
       "  'One-Size'},\n",
       " 'Model': {'AirPods Case',\n",
       "  'AirPods Pro Case',\n",
       "  'Airpod',\n",
       "  'Airpod Max',\n",
       "  'Airpods 3',\n",
       "  'Airpods Pro',\n",
       "  'Apple Watch 40mm',\n",
       "  'Apple Watch 42mm',\n",
       "  'Apple Watch 44mm',\n",
       "  'MACBOOK 12 [A1534]',\n",
       "  'MACBOOK AIR 11 [A1370/A1465]',\n",
       "  'MACBOOK AIR 13 [A1466/A1369]',\n",
       "  'MACBOOK AIR 13 [A1932/A2179/A2337]',\n",
       "  'MACBOOK PRO 13 [A1502/A1425]',\n",
       "  'MACBOOK PRO 13 [A1706/A1708/A2338]',\n",
       "  'MACBOOK PRO 13 [A1989/A2159]',\n",
       "  'MACBOOK PRO 13 [A2289/A2251]',\n",
       "  'MACBOOK PRO 14 2021 [A2442]',\n",
       "  'MACBOOK PRO 15 [A1398]',\n",
       "  'MACBOOK PRO 15 [A1990/A1707]',\n",
       "  'MACBOOK PRO 16 2021 [A2485]',\n",
       "  'MACBOOK PRO 16 [A2141]',\n",
       "  'Samsung Galaxy A51',\n",
       "  'Samsung Galaxy A71',\n",
       "  'Samsung Galaxy S10',\n",
       "  'Samsung Galaxy S10 Plus',\n",
       "  'Samsung Galaxy S20',\n",
       "  'Samsung Galaxy S20 FE',\n",
       "  'Samsung Galaxy S20 Plus',\n",
       "  'Samsung Galaxy S20 Ultra',\n",
       "  'Samsung Galaxy S21',\n",
       "  'Samsung Galaxy S21 FE',\n",
       "  'Samsung Galaxy S21 Plus',\n",
       "  'Samsung Galaxy S21 Ultra',\n",
       "  'Samsung Galaxy S22 5G',\n",
       "  'Samsung Galaxy S22 Plus 5G',\n",
       "  'Samsung Galaxy S22 Ultra 5G',\n",
       "  'Samsung Note 10 Plus',\n",
       "  'Samsung Note 20',\n",
       "  'Samsung Note 20 Ultra',\n",
       "  'USB to Lightning',\n",
       "  'USB to USB-C',\n",
       "  'USB-C to Lightning',\n",
       "  'USB-C to USB-C',\n",
       "  'iPhone 11',\n",
       "  'iPhone 11 Pro',\n",
       "  'iPhone 11 Pro Max',\n",
       "  'iPhone 12',\n",
       "  'iPhone 12 Mini',\n",
       "  'iPhone 12 Pro',\n",
       "  'iPhone 12 Pro Max',\n",
       "  'iPhone 13',\n",
       "  'iPhone 13 Mini',\n",
       "  'iPhone 13 Pro',\n",
       "  'iPhone 13 Pro Max',\n",
       "  'iPhone 6 / 6s',\n",
       "  'iPhone 6 Plus / 6s Plus',\n",
       "  'iPhone 7 / iPhone 8',\n",
       "  'iPhone 7 Plus / 8 Plus',\n",
       "  'iPhone SE (2020)',\n",
       "  'iPhone SE (2022)',\n",
       "  'iPhone X / XS',\n",
       "  'iPhone XR',\n",
       "  'iPhone XS Max'},\n",
       " 'Case Type': {'Elite Dark', 'Snap', 'Tough'},\n",
       " 'Quantity': {'12-pack', '4-pack', '8-pack'},\n",
       " 'Type': {'Folio'},\n",
       " 'Plug Type': {'USA Plug'}}"
      ]
     },
     "execution_count": 245,
     "metadata": {},
     "output_type": "execute_result"
    }
   ],
   "source": [
    "bptov"
   ]
  },
  {
   "cell_type": "code",
   "execution_count": 243,
   "id": "080d0583-d1da-44f9-966c-e770f8f71b28",
   "metadata": {},
   "outputs": [
    {
     "data": {
      "text/plain": [
       "['accessories',\n",
       " 'airpod-max-cases',\n",
       " 'airpod-types',\n",
       " 'airpods-3-cases',\n",
       " 'airpod-cases',\n",
       " 'airpods-pro-cases',\n",
       " 'all-models',\n",
       " 'all-products-flexify',\n",
       " 'apple-watch-bands',\n",
       " 'backyard-stories',\n",
       " 'beige-tones',\n",
       " 'best-selling-phone-cases',\n",
       " 'blooming-spring',\n",
       " 'camo-phone-cases',\n",
       " 'charging',\n",
       " 'colorful-phone-cases',\n",
       " 'personalized-phone-cases',\n",
       " 'elite-cases-burger-nav',\n",
       " 'essentials-phone-cases',\n",
       " 'explorer-phone-cases',\n",
       " 'eyeglass-chains',\n",
       " 'festive-collection',\n",
       " 'floral-phone-cases',\n",
       " 'for-him-airpods-cases',\n",
       " 'for-him-ipad-cases',\n",
       " 'for-him-macbook-cases',\n",
       " 'for-him-phone-cases',\n",
       " 'for-him-drinkware',\n",
       " 'google-pixel-2-cases',\n",
       " 'google-pixel-2-xl-cases']"
      ]
     },
     "execution_count": 243,
     "metadata": {},
     "output_type": "execute_result"
    }
   ],
   "source": [
    "[c['handle'] for c in bcoll]"
   ]
  },
  {
   "cell_type": "markdown",
   "id": "c0ed8fba-004e-4d64-b7e2-60512d12cc0e",
   "metadata": {},
   "source": [
    "Impossible to query this the way the site gets queried. I probably need a normalized table?"
   ]
  },
  {
   "cell_type": "code",
   "execution_count": null,
   "id": "d24e3207-dbd3-4b1f-b236-78bca376e4c2",
   "metadata": {},
   "outputs": [],
   "source": [
    "example_url = 'https://www.burga.com/collections/personalized-phone-cases/model:iphone-13?type=elite-dark&page=2&=undefined&color=black'"
   ]
  },
  {
   "cell_type": "code",
   "execution_count": 244,
   "id": "67aa07c0-0ecc-47db-a8bd-e8b84af680e6",
   "metadata": {},
   "outputs": [
    {
     "data": {
      "text/plain": [
       "{'accessories': {'Airtag Case',\n",
       "  'Eyewear Chain',\n",
       "  'Phone Charm',\n",
       "  'Ring Light',\n",
       "  'wireless charger'},\n",
       " 'airpod-max-cases': {'AirPods Case'},\n",
       " 'airpod-types': {'AirPods Case'},\n",
       " 'airpods-3-cases': {'AirPods Case'},\n",
       " 'airpod-cases': {'AirPods Case'},\n",
       " 'airpods-pro-cases': {'AirPods Case'},\n",
       " 'all-models': {'Phone Case'},\n",
       " 'all-products-flexify': {'AirPods Case',\n",
       "  'Cable',\n",
       "  'Camera Lens Protector',\n",
       "  'Card Holder',\n",
       "  'Passport Holder',\n",
       "  'Phone Case',\n",
       "  'Power Bank',\n",
       "  'Ring Holder',\n",
       "  'Straws',\n",
       "  'Travel Mug',\n",
       "  'Watch Protector',\n",
       "  'Water Bottle',\n",
       "  'iPad Case',\n",
       "  'macbook',\n",
       "  'screenprotector',\n",
       "  'wireless charger'},\n",
       " 'apple-watch-bands': {'Leather Apple Watch Band',\n",
       "  'Metal Mesh Apple Watch Band'},\n",
       " 'backyard-stories': {'Phone Case'},\n",
       " 'beige-tones': {'Phone Case'},\n",
       " 'blooming-spring': {'Phone Case'},\n",
       " 'camo-phone-cases': {'Phone Case'},\n",
       " 'charging': {'Cable', 'Power Bank', 'Wall Charger', 'wireless charger'},\n",
       " 'colorful-phone-cases': {'Phone Case'},\n",
       " 'personalized-phone-cases': {'Phone Case'},\n",
       " 'elite-cases-burger-nav': {'Phone Case'},\n",
       " 'essentials-phone-cases': {'Phone Case'},\n",
       " 'explorer-phone-cases': {'Phone Case'},\n",
       " 'eyeglass-chains': {'Eyewear Chain'},\n",
       " 'festive-collection': {'Phone Case'},\n",
       " 'floral-phone-cases': {'Phone Case'},\n",
       " 'for-him-airpods-cases': {'AirPods Case'},\n",
       " 'for-him-ipad-cases': {'iPad Case'},\n",
       " 'for-him-macbook-cases': {'macbook'},\n",
       " 'for-him-phone-cases': {'Phone Case'},\n",
       " 'for-him-drinkware': {'Straws', 'Travel Mug', 'Water Bottle'},\n",
       " 'google-pixel-2-cases': {'Phone Case'},\n",
       " 'google-pixel-2-xl-cases': {'Phone Case'}}"
      ]
     },
     "execution_count": 244,
     "metadata": {},
     "output_type": "execute_result"
    }
   ],
   "source": [
    "bptypes"
   ]
  },
  {
   "cell_type": "markdown",
   "id": "d2e87544-ccd4-4ed7-bf2c-f526bdac4348",
   "metadata": {},
   "source": [
    "what if we get the product_Types from the collections?"
   ]
  },
  {
   "cell_type": "markdown",
   "id": "a32df3da-a656-4b4b-afb6-fddf9dfeb42d",
   "metadata": {},
   "source": [
    "Hypohteses to test:\n",
    "- options available for variants are consistent within each collection. So all the items that belong to a single collection will have the same format for option1, option2, option3\n",
    "    - actually this occurs at the product level"
   ]
  },
  {
   "cell_type": "code",
   "execution_count": null,
   "id": "a2c09cb1-4ed6-46d6-9ef1-b41193ed1cdd",
   "metadata": {},
   "outputs": [],
   "source": []
  }
 ],
 "metadata": {
  "kernelspec": {
   "display_name": "Default",
   "language": "python",
   "name": "default"
  },
  "language_info": {
   "codemirror_mode": {
    "name": "ipython",
    "version": 3
   },
   "file_extension": ".py",
   "mimetype": "text/x-python",
   "name": "python",
   "nbconvert_exporter": "python",
   "pygments_lexer": "ipython3",
   "version": "3.9.7"
  }
 },
 "nbformat": 4,
 "nbformat_minor": 5
}
